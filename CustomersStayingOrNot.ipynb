{
  "nbformat": 4,
  "nbformat_minor": 0,
  "metadata": {
    "colab": {
      "name": "CustomersStayingOrNot.ipynb",
      "provenance": [],
      "collapsed_sections": [],
      "authorship_tag": "ABX9TyMhhTozE0B0AuNDuHNcGNHB",
      "include_colab_link": true
    },
    "kernelspec": {
      "name": "python3",
      "display_name": "Python 3"
    },
    "language_info": {
      "name": "python"
    }
  },
  "cells": [
    {
      "cell_type": "markdown",
      "metadata": {
        "id": "view-in-github",
        "colab_type": "text"
      },
      "source": [
        "<a href=\"https://colab.research.google.com/github/inesluparia/ML/blob/master/CustomersStayingOrNot.ipynb\" target=\"_parent\"><img src=\"https://colab.research.google.com/assets/colab-badge.svg\" alt=\"Open In Colab\"/></a>"
      ]
    },
    {
      "cell_type": "code",
      "execution_count": 1,
      "metadata": {
        "id": "jIgMP-UywHT6"
      },
      "outputs": [],
      "source": [
        "import numpy as np\n",
        "import pandas as pd\n",
        "import seaborn as sns\n",
        "from sklearn.model_selection import train_test_split\n",
        "from sklearn.preprocessing import StandardScaler\n",
        "from tensorflow.keras.models import Sequential, load_model\n",
        "from tensorflow.keras.layers import Dense\n",
        "from tensorflow.keras.optimizers import Adam\n",
        "from sklearn.metrics import confusion_matrix, accuracy_score\n"
      ]
    },
    {
      "cell_type": "code",
      "source": [
        "!git clone https://github.com/inesluparia/ML.git"
      ],
      "metadata": {
        "colab": {
          "base_uri": "https://localhost:8080/"
        },
        "id": "I3-rH8g3xBAO",
        "outputId": "3daddb9e-993b-4078-a361-5c320dd103db"
      },
      "execution_count": 2,
      "outputs": [
        {
          "output_type": "stream",
          "name": "stdout",
          "text": [
            "Cloning into 'ML'...\n",
            "remote: Enumerating objects: 21, done.\u001b[K\n",
            "remote: Counting objects: 100% (21/21), done.\u001b[K\n",
            "remote: Compressing objects: 100% (20/20), done.\u001b[K\n",
            "remote: Total 21 (delta 8), reused 9 (delta 1), pack-reused 0\u001b[K\n",
            "Unpacking objects: 100% (21/21), done.\n"
          ]
        }
      ]
    },
    {
      "cell_type": "code",
      "source": [
        "dataFrame = pd.read_csv('ML/customer_staying_or_not.csv')"
      ],
      "metadata": {
        "id": "e5W0OkNFzwMy"
      },
      "execution_count": 3,
      "outputs": []
    },
    {
      "cell_type": "code",
      "source": [
        "dataFrame.head() #print top of the data"
      ],
      "metadata": {
        "colab": {
          "base_uri": "https://localhost:8080/",
          "height": 270
        },
        "id": "BTzDPuEF0Fpc",
        "outputId": "d83f9399-9299-4c9a-e31e-3d9d1a1ea677"
      },
      "execution_count": 4,
      "outputs": [
        {
          "output_type": "execute_result",
          "data": {
            "text/html": [
              "\n",
              "  <div id=\"df-15bcd1f2-8923-4a21-9043-a9441b4b1bf5\">\n",
              "    <div class=\"colab-df-container\">\n",
              "      <div>\n",
              "<style scoped>\n",
              "    .dataframe tbody tr th:only-of-type {\n",
              "        vertical-align: middle;\n",
              "    }\n",
              "\n",
              "    .dataframe tbody tr th {\n",
              "        vertical-align: top;\n",
              "    }\n",
              "\n",
              "    .dataframe thead th {\n",
              "        text-align: right;\n",
              "    }\n",
              "</style>\n",
              "<table border=\"1\" class=\"dataframe\">\n",
              "  <thead>\n",
              "    <tr style=\"text-align: right;\">\n",
              "      <th></th>\n",
              "      <th>RowNumber</th>\n",
              "      <th>CustomerId</th>\n",
              "      <th>Surname</th>\n",
              "      <th>CreditScore</th>\n",
              "      <th>Geography</th>\n",
              "      <th>Gender</th>\n",
              "      <th>Age</th>\n",
              "      <th>Tenure</th>\n",
              "      <th>Balance</th>\n",
              "      <th>NumOfProducts</th>\n",
              "      <th>HasCrCard</th>\n",
              "      <th>IsActiveMember</th>\n",
              "      <th>EstimatedSalary</th>\n",
              "      <th>Exited</th>\n",
              "    </tr>\n",
              "  </thead>\n",
              "  <tbody>\n",
              "    <tr>\n",
              "      <th>0</th>\n",
              "      <td>1</td>\n",
              "      <td>15634602</td>\n",
              "      <td>Hargrave</td>\n",
              "      <td>619</td>\n",
              "      <td>France</td>\n",
              "      <td>Female</td>\n",
              "      <td>42</td>\n",
              "      <td>2</td>\n",
              "      <td>0.00</td>\n",
              "      <td>1</td>\n",
              "      <td>1</td>\n",
              "      <td>1</td>\n",
              "      <td>101348.88</td>\n",
              "      <td>1</td>\n",
              "    </tr>\n",
              "    <tr>\n",
              "      <th>1</th>\n",
              "      <td>2</td>\n",
              "      <td>15647311</td>\n",
              "      <td>Hill</td>\n",
              "      <td>608</td>\n",
              "      <td>Spain</td>\n",
              "      <td>Female</td>\n",
              "      <td>41</td>\n",
              "      <td>1</td>\n",
              "      <td>83807.86</td>\n",
              "      <td>1</td>\n",
              "      <td>0</td>\n",
              "      <td>1</td>\n",
              "      <td>112542.58</td>\n",
              "      <td>0</td>\n",
              "    </tr>\n",
              "    <tr>\n",
              "      <th>2</th>\n",
              "      <td>3</td>\n",
              "      <td>15619304</td>\n",
              "      <td>Onio</td>\n",
              "      <td>502</td>\n",
              "      <td>France</td>\n",
              "      <td>Female</td>\n",
              "      <td>42</td>\n",
              "      <td>8</td>\n",
              "      <td>159660.80</td>\n",
              "      <td>3</td>\n",
              "      <td>1</td>\n",
              "      <td>0</td>\n",
              "      <td>113931.57</td>\n",
              "      <td>1</td>\n",
              "    </tr>\n",
              "    <tr>\n",
              "      <th>3</th>\n",
              "      <td>4</td>\n",
              "      <td>15701354</td>\n",
              "      <td>Boni</td>\n",
              "      <td>699</td>\n",
              "      <td>France</td>\n",
              "      <td>Female</td>\n",
              "      <td>39</td>\n",
              "      <td>1</td>\n",
              "      <td>0.00</td>\n",
              "      <td>2</td>\n",
              "      <td>0</td>\n",
              "      <td>0</td>\n",
              "      <td>93826.63</td>\n",
              "      <td>0</td>\n",
              "    </tr>\n",
              "    <tr>\n",
              "      <th>4</th>\n",
              "      <td>5</td>\n",
              "      <td>15737888</td>\n",
              "      <td>Mitchell</td>\n",
              "      <td>850</td>\n",
              "      <td>Spain</td>\n",
              "      <td>Female</td>\n",
              "      <td>43</td>\n",
              "      <td>2</td>\n",
              "      <td>125510.82</td>\n",
              "      <td>1</td>\n",
              "      <td>1</td>\n",
              "      <td>1</td>\n",
              "      <td>79084.10</td>\n",
              "      <td>0</td>\n",
              "    </tr>\n",
              "  </tbody>\n",
              "</table>\n",
              "</div>\n",
              "      <button class=\"colab-df-convert\" onclick=\"convertToInteractive('df-15bcd1f2-8923-4a21-9043-a9441b4b1bf5')\"\n",
              "              title=\"Convert this dataframe to an interactive table.\"\n",
              "              style=\"display:none;\">\n",
              "        \n",
              "  <svg xmlns=\"http://www.w3.org/2000/svg\" height=\"24px\"viewBox=\"0 0 24 24\"\n",
              "       width=\"24px\">\n",
              "    <path d=\"M0 0h24v24H0V0z\" fill=\"none\"/>\n",
              "    <path d=\"M18.56 5.44l.94 2.06.94-2.06 2.06-.94-2.06-.94-.94-2.06-.94 2.06-2.06.94zm-11 1L8.5 8.5l.94-2.06 2.06-.94-2.06-.94L8.5 2.5l-.94 2.06-2.06.94zm10 10l.94 2.06.94-2.06 2.06-.94-2.06-.94-.94-2.06-.94 2.06-2.06.94z\"/><path d=\"M17.41 7.96l-1.37-1.37c-.4-.4-.92-.59-1.43-.59-.52 0-1.04.2-1.43.59L10.3 9.45l-7.72 7.72c-.78.78-.78 2.05 0 2.83L4 21.41c.39.39.9.59 1.41.59.51 0 1.02-.2 1.41-.59l7.78-7.78 2.81-2.81c.8-.78.8-2.07 0-2.86zM5.41 20L4 18.59l7.72-7.72 1.47 1.35L5.41 20z\"/>\n",
              "  </svg>\n",
              "      </button>\n",
              "      \n",
              "  <style>\n",
              "    .colab-df-container {\n",
              "      display:flex;\n",
              "      flex-wrap:wrap;\n",
              "      gap: 12px;\n",
              "    }\n",
              "\n",
              "    .colab-df-convert {\n",
              "      background-color: #E8F0FE;\n",
              "      border: none;\n",
              "      border-radius: 50%;\n",
              "      cursor: pointer;\n",
              "      display: none;\n",
              "      fill: #1967D2;\n",
              "      height: 32px;\n",
              "      padding: 0 0 0 0;\n",
              "      width: 32px;\n",
              "    }\n",
              "\n",
              "    .colab-df-convert:hover {\n",
              "      background-color: #E2EBFA;\n",
              "      box-shadow: 0px 1px 2px rgba(60, 64, 67, 0.3), 0px 1px 3px 1px rgba(60, 64, 67, 0.15);\n",
              "      fill: #174EA6;\n",
              "    }\n",
              "\n",
              "    [theme=dark] .colab-df-convert {\n",
              "      background-color: #3B4455;\n",
              "      fill: #D2E3FC;\n",
              "    }\n",
              "\n",
              "    [theme=dark] .colab-df-convert:hover {\n",
              "      background-color: #434B5C;\n",
              "      box-shadow: 0px 1px 3px 1px rgba(0, 0, 0, 0.15);\n",
              "      filter: drop-shadow(0px 1px 2px rgba(0, 0, 0, 0.3));\n",
              "      fill: #FFFFFF;\n",
              "    }\n",
              "  </style>\n",
              "\n",
              "      <script>\n",
              "        const buttonEl =\n",
              "          document.querySelector('#df-15bcd1f2-8923-4a21-9043-a9441b4b1bf5 button.colab-df-convert');\n",
              "        buttonEl.style.display =\n",
              "          google.colab.kernel.accessAllowed ? 'block' : 'none';\n",
              "\n",
              "        async function convertToInteractive(key) {\n",
              "          const element = document.querySelector('#df-15bcd1f2-8923-4a21-9043-a9441b4b1bf5');\n",
              "          const dataTable =\n",
              "            await google.colab.kernel.invokeFunction('convertToInteractive',\n",
              "                                                     [key], {});\n",
              "          if (!dataTable) return;\n",
              "\n",
              "          const docLinkHtml = 'Like what you see? Visit the ' +\n",
              "            '<a target=\"_blank\" href=https://colab.research.google.com/notebooks/data_table.ipynb>data table notebook</a>'\n",
              "            + ' to learn more about interactive tables.';\n",
              "          element.innerHTML = '';\n",
              "          dataTable['output_type'] = 'display_data';\n",
              "          await google.colab.output.renderOutput(dataTable, element);\n",
              "          const docLink = document.createElement('div');\n",
              "          docLink.innerHTML = docLinkHtml;\n",
              "          element.appendChild(docLink);\n",
              "        }\n",
              "      </script>\n",
              "    </div>\n",
              "  </div>\n",
              "  "
            ],
            "text/plain": [
              "   RowNumber  CustomerId   Surname  CreditScore Geography  Gender  Age  \\\n",
              "0          1    15634602  Hargrave          619    France  Female   42   \n",
              "1          2    15647311      Hill          608     Spain  Female   41   \n",
              "2          3    15619304      Onio          502    France  Female   42   \n",
              "3          4    15701354      Boni          699    France  Female   39   \n",
              "4          5    15737888  Mitchell          850     Spain  Female   43   \n",
              "\n",
              "   Tenure    Balance  NumOfProducts  HasCrCard  IsActiveMember  \\\n",
              "0       2       0.00              1          1               1   \n",
              "1       1   83807.86              1          0               1   \n",
              "2       8  159660.80              3          1               0   \n",
              "3       1       0.00              2          0               0   \n",
              "4       2  125510.82              1          1               1   \n",
              "\n",
              "   EstimatedSalary  Exited  \n",
              "0        101348.88       1  \n",
              "1        112542.58       0  \n",
              "2        113931.57       1  \n",
              "3         93826.63       0  \n",
              "4         79084.10       0  "
            ]
          },
          "metadata": {},
          "execution_count": 4
        }
      ]
    },
    {
      "cell_type": "code",
      "source": [
        "pd.set_option('display.max_columns', None) # print all columns\n",
        "X = dataFrame.iloc[:,4:13] # select relevant rows and columns to X (here for example columns 5,6,7,8,9,10 and 11)\n",
        "y = dataFrame.iloc[:, -1] # select column(s) for y (here only the last column)"
      ],
      "metadata": {
        "id": "-aPxr0iU0mfS"
      },
      "execution_count": 5,
      "outputs": []
    },
    {
      "cell_type": "code",
      "source": [
        "print(y[0:5])"
      ],
      "metadata": {
        "colab": {
          "base_uri": "https://localhost:8080/"
        },
        "id": "fW8K6xRWArB2",
        "outputId": "9b787294-30f5-4c6c-e280-51eb9e970110"
      },
      "execution_count": null,
      "outputs": [
        {
          "output_type": "stream",
          "name": "stdout",
          "text": [
            "0    1\n",
            "1    0\n",
            "2    1\n",
            "3    0\n",
            "4    0\n",
            "Name: Exited, dtype: int64\n"
          ]
        }
      ]
    },
    {
      "cell_type": "code",
      "source": [
        "X = pd.get_dummies(X) # convert ALL text-columns to categorical variables (One Hot encoding), e.g. gender, country etc. \n",
        "columnNames = list(X.columns) # grab column-names before converting to numpy array\n",
        "X = X.values # convert from Pandas dataframe to numpy array\n",
        "y = y.values # convert from Pandas dataframe to numpy array"
      ],
      "metadata": {
        "id": "G8rTVvpA1NZC"
      },
      "execution_count": 6,
      "outputs": []
    },
    {
      "cell_type": "code",
      "source": [
        "print(X[0:6,:])"
      ],
      "metadata": {
        "colab": {
          "base_uri": "https://localhost:8080/"
        },
        "id": "6eDf2bj314eI",
        "outputId": "7a52cdbb-2dc2-4026-941a-a5005f76675f"
      },
      "execution_count": null,
      "outputs": [
        {
          "output_type": "stream",
          "name": "stdout",
          "text": [
            "[[4.2000000e+01 2.0000000e+00 0.0000000e+00 1.0000000e+00 1.0000000e+00\n",
            "  1.0000000e+00 1.0134888e+05 1.0000000e+00 0.0000000e+00 0.0000000e+00\n",
            "  1.0000000e+00 0.0000000e+00]\n",
            " [4.1000000e+01 1.0000000e+00 8.3807860e+04 1.0000000e+00 0.0000000e+00\n",
            "  1.0000000e+00 1.1254258e+05 0.0000000e+00 0.0000000e+00 1.0000000e+00\n",
            "  1.0000000e+00 0.0000000e+00]\n",
            " [4.2000000e+01 8.0000000e+00 1.5966080e+05 3.0000000e+00 1.0000000e+00\n",
            "  0.0000000e+00 1.1393157e+05 1.0000000e+00 0.0000000e+00 0.0000000e+00\n",
            "  1.0000000e+00 0.0000000e+00]\n",
            " [3.9000000e+01 1.0000000e+00 0.0000000e+00 2.0000000e+00 0.0000000e+00\n",
            "  0.0000000e+00 9.3826630e+04 1.0000000e+00 0.0000000e+00 0.0000000e+00\n",
            "  1.0000000e+00 0.0000000e+00]\n",
            " [4.3000000e+01 2.0000000e+00 1.2551082e+05 1.0000000e+00 1.0000000e+00\n",
            "  1.0000000e+00 7.9084100e+04 0.0000000e+00 0.0000000e+00 1.0000000e+00\n",
            "  1.0000000e+00 0.0000000e+00]\n",
            " [4.4000000e+01 8.0000000e+00 1.1375578e+05 2.0000000e+00 1.0000000e+00\n",
            "  0.0000000e+00 1.4975671e+05 0.0000000e+00 0.0000000e+00 1.0000000e+00\n",
            "  0.0000000e+00 1.0000000e+00]]\n"
          ]
        }
      ]
    },
    {
      "cell_type": "code",
      "source": [
        "scaler = StandardScaler()\n",
        "X = scaler.fit_transform(X) # calculate mean and standard deviation and convert dataframe to numpy array\n",
        "print(X[0:6,:])"
      ],
      "metadata": {
        "colab": {
          "base_uri": "https://localhost:8080/"
        },
        "id": "mhpELPGS1j5v",
        "outputId": "73f5de0d-aea4-483d-9c6b-b849a066b5db"
      },
      "execution_count": 7,
      "outputs": [
        {
          "output_type": "stream",
          "name": "stdout",
          "text": [
            "[[ 0.29351742 -1.04175968 -1.22584767 -0.91158349  0.64609167  0.97024255\n",
            "   0.02188649  0.99720391 -0.57873591 -0.57380915  1.09598752 -1.09598752]\n",
            " [ 0.19816383 -1.38753759  0.11735002 -0.91158349 -1.54776799  0.97024255\n",
            "   0.21653375 -1.00280393 -0.57873591  1.74273971  1.09598752 -1.09598752]\n",
            " [ 0.29351742  1.03290776  1.33305335  2.52705662  0.64609167 -1.03067011\n",
            "   0.2406869   0.99720391 -0.57873591 -0.57380915  1.09598752 -1.09598752]\n",
            " [ 0.00745665 -1.38753759 -1.22584767  0.80773656 -1.54776799 -1.03067011\n",
            "  -0.10891792  0.99720391 -0.57873591 -0.57380915  1.09598752 -1.09598752]\n",
            " [ 0.38887101 -1.04175968  0.7857279  -0.91158349  0.64609167  0.97024255\n",
            "  -0.36527578 -1.00280393 -0.57873591  1.74273971  1.09598752 -1.09598752]\n",
            " [ 0.4842246   1.03290776  0.59732859  0.80773656  0.64609167 -1.03067011\n",
            "   0.86365029 -1.00280393 -0.57873591  1.74273971 -0.91241915  0.91241915]]\n"
          ]
        }
      ]
    },
    {
      "cell_type": "code",
      "source": [
        "X_train, X_test, y_train, y_test = train_test_split(X,y,test_size = 0.2, random_state = 42 )\n",
        "# random_state set to some value will provide same output - its a seed for randomizing"
      ],
      "metadata": {
        "id": "C2t_XFkl3GA7"
      },
      "execution_count": 8,
      "outputs": []
    },
    {
      "cell_type": "code",
      "source": [
        "model = Sequential()\n",
        "model.add(Dense(8,activation='relu')) # 8 outputs. It will automatically adapt to number inputs\n",
        "model.add(Dense(8,activation='relu'))\n",
        "model.add(Dense(8,activation='relu'))\n",
        "#model.add(Dense(1)) # Final output node for prediction. In this case, only one output neuron\n",
        "#performs better if I add sigmoid to the last layer\n",
        "model.add(Dense(1,activation='sigmoid')) # Final output node for prediction. In this case, only one output neuron\n",
        "\n",
        "adam = Adam(learning_rate=0.001) \n",
        "model.compile(loss='binary_crossentropy', optimizer=adam, metrics=['accuracy'])  \n",
        "# use loss = 'binary_crossentropy' for two-class classification.\n",
        "#use loss = 'categorical_crossentropy' for multi-class classification.\n",
        "#use loss = mse (Mean Square Error) for regression (e.g. the Age,Height exercise). \n",
        "#use metrics = ['accuracy']. It shows successful predictions / total predictions"
      ],
      "metadata": {
        "id": "rdwPCHwO3PnG"
      },
      "execution_count": 11,
      "outputs": []
    },
    {
      "cell_type": "code",
      "source": [
        ""
      ],
      "metadata": {
        "id": "9UCNgc12Mfay"
      },
      "execution_count": null,
      "outputs": []
    },
    {
      "cell_type": "code",
      "source": [
        "model.fit(X_train,y_train,epochs=50, verbose=1)  # does the actual WORK !. verbose=1 will show output. 0 = no output."
      ],
      "metadata": {
        "colab": {
          "base_uri": "https://localhost:8080/"
        },
        "id": "kga9lujk3v2D",
        "outputId": "37413ae1-a4c2-4820-c4d2-bcfc8f07f03b"
      },
      "execution_count": 12,
      "outputs": [
        {
          "output_type": "stream",
          "name": "stdout",
          "text": [
            "Epoch 1/50\n",
            "250/250 [==============================] - 1s 962us/step - loss: 0.5219 - accuracy: 0.7825\n",
            "Epoch 2/50\n",
            "250/250 [==============================] - 0s 1ms/step - loss: 0.4539 - accuracy: 0.7964\n",
            "Epoch 3/50\n",
            "250/250 [==============================] - 0s 1ms/step - loss: 0.4334 - accuracy: 0.8034\n",
            "Epoch 4/50\n",
            "250/250 [==============================] - 0s 1ms/step - loss: 0.4156 - accuracy: 0.8129\n",
            "Epoch 5/50\n",
            "250/250 [==============================] - 0s 1ms/step - loss: 0.3891 - accuracy: 0.8359\n",
            "Epoch 6/50\n",
            "250/250 [==============================] - 0s 986us/step - loss: 0.3680 - accuracy: 0.8489\n",
            "Epoch 7/50\n",
            "250/250 [==============================] - 0s 1ms/step - loss: 0.3569 - accuracy: 0.8529\n",
            "Epoch 8/50\n",
            "250/250 [==============================] - 0s 1ms/step - loss: 0.3513 - accuracy: 0.8541\n",
            "Epoch 9/50\n",
            "250/250 [==============================] - 0s 1ms/step - loss: 0.3495 - accuracy: 0.8559\n",
            "Epoch 10/50\n",
            "250/250 [==============================] - 0s 1ms/step - loss: 0.3473 - accuracy: 0.8576\n",
            "Epoch 11/50\n",
            "250/250 [==============================] - 0s 1ms/step - loss: 0.3445 - accuracy: 0.8562\n",
            "Epoch 12/50\n",
            "250/250 [==============================] - 0s 1ms/step - loss: 0.3435 - accuracy: 0.8575\n",
            "Epoch 13/50\n",
            "250/250 [==============================] - 0s 1ms/step - loss: 0.3418 - accuracy: 0.8596\n",
            "Epoch 14/50\n",
            "250/250 [==============================] - 0s 1ms/step - loss: 0.3416 - accuracy: 0.8586\n",
            "Epoch 15/50\n",
            "250/250 [==============================] - 0s 1ms/step - loss: 0.3404 - accuracy: 0.8593\n",
            "Epoch 16/50\n",
            "250/250 [==============================] - 0s 1ms/step - loss: 0.3400 - accuracy: 0.8575\n",
            "Epoch 17/50\n",
            "250/250 [==============================] - 0s 1ms/step - loss: 0.3386 - accuracy: 0.8587\n",
            "Epoch 18/50\n",
            "250/250 [==============================] - 0s 1ms/step - loss: 0.3394 - accuracy: 0.8616\n",
            "Epoch 19/50\n",
            "250/250 [==============================] - 0s 1ms/step - loss: 0.3376 - accuracy: 0.8615\n",
            "Epoch 20/50\n",
            "250/250 [==============================] - 0s 1ms/step - loss: 0.3372 - accuracy: 0.8614\n",
            "Epoch 21/50\n",
            "250/250 [==============================] - 0s 1ms/step - loss: 0.3361 - accuracy: 0.8620\n",
            "Epoch 22/50\n",
            "250/250 [==============================] - 0s 1ms/step - loss: 0.3362 - accuracy: 0.8622\n",
            "Epoch 23/50\n",
            "250/250 [==============================] - 0s 1ms/step - loss: 0.3360 - accuracy: 0.8610\n",
            "Epoch 24/50\n",
            "250/250 [==============================] - 0s 937us/step - loss: 0.3349 - accuracy: 0.8605\n",
            "Epoch 25/50\n",
            "250/250 [==============================] - 0s 1ms/step - loss: 0.3340 - accuracy: 0.8616\n",
            "Epoch 26/50\n",
            "250/250 [==============================] - 0s 1ms/step - loss: 0.3343 - accuracy: 0.8614\n",
            "Epoch 27/50\n",
            "250/250 [==============================] - 0s 1ms/step - loss: 0.3335 - accuracy: 0.8625\n",
            "Epoch 28/50\n",
            "250/250 [==============================] - 0s 1ms/step - loss: 0.3335 - accuracy: 0.8643\n",
            "Epoch 29/50\n",
            "250/250 [==============================] - 0s 1ms/step - loss: 0.3332 - accuracy: 0.8634\n",
            "Epoch 30/50\n",
            "250/250 [==============================] - 0s 1ms/step - loss: 0.3324 - accuracy: 0.8636\n",
            "Epoch 31/50\n",
            "250/250 [==============================] - 0s 1ms/step - loss: 0.3328 - accuracy: 0.8636\n",
            "Epoch 32/50\n",
            "250/250 [==============================] - 0s 1ms/step - loss: 0.3329 - accuracy: 0.8644\n",
            "Epoch 33/50\n",
            "250/250 [==============================] - 0s 1ms/step - loss: 0.3325 - accuracy: 0.8633\n",
            "Epoch 34/50\n",
            "250/250 [==============================] - 0s 1ms/step - loss: 0.3327 - accuracy: 0.8637\n",
            "Epoch 35/50\n",
            "250/250 [==============================] - 1s 2ms/step - loss: 0.3321 - accuracy: 0.8637\n",
            "Epoch 36/50\n",
            "250/250 [==============================] - 0s 1ms/step - loss: 0.3320 - accuracy: 0.8615\n",
            "Epoch 37/50\n",
            "250/250 [==============================] - 0s 1ms/step - loss: 0.3317 - accuracy: 0.8635\n",
            "Epoch 38/50\n",
            "250/250 [==============================] - 0s 1ms/step - loss: 0.3313 - accuracy: 0.8631\n",
            "Epoch 39/50\n",
            "250/250 [==============================] - 0s 1ms/step - loss: 0.3319 - accuracy: 0.8618\n",
            "Epoch 40/50\n",
            "250/250 [==============================] - 0s 1ms/step - loss: 0.3305 - accuracy: 0.8654\n",
            "Epoch 41/50\n",
            "250/250 [==============================] - 0s 996us/step - loss: 0.3315 - accuracy: 0.8640\n",
            "Epoch 42/50\n",
            "250/250 [==============================] - 0s 1ms/step - loss: 0.3309 - accuracy: 0.8644\n",
            "Epoch 43/50\n",
            "250/250 [==============================] - 0s 1ms/step - loss: 0.3303 - accuracy: 0.8631\n",
            "Epoch 44/50\n",
            "250/250 [==============================] - 0s 1ms/step - loss: 0.3307 - accuracy: 0.8625\n",
            "Epoch 45/50\n",
            "250/250 [==============================] - 0s 998us/step - loss: 0.3299 - accuracy: 0.8648\n",
            "Epoch 46/50\n",
            "250/250 [==============================] - 0s 1ms/step - loss: 0.3299 - accuracy: 0.8648\n",
            "Epoch 47/50\n",
            "250/250 [==============================] - 0s 1ms/step - loss: 0.3301 - accuracy: 0.8646\n",
            "Epoch 48/50\n",
            "250/250 [==============================] - 0s 1ms/step - loss: 0.3298 - accuracy: 0.8648\n",
            "Epoch 49/50\n",
            "250/250 [==============================] - 0s 1ms/step - loss: 0.3290 - accuracy: 0.8651\n",
            "Epoch 50/50\n",
            "250/250 [==============================] - 0s 1ms/step - loss: 0.3293 - accuracy: 0.8640\n"
          ]
        },
        {
          "output_type": "execute_result",
          "data": {
            "text/plain": [
              "<keras.callbacks.History at 0x7f82c9bed650>"
            ]
          },
          "metadata": {},
          "execution_count": 12
        }
      ]
    },
    {
      "cell_type": "code",
      "source": [
        "#show loss vs epochs\n",
        "loss = model.history.history['loss']\n",
        "sns.lineplot(x=range(len(loss)),y=loss)"
      ],
      "metadata": {
        "colab": {
          "base_uri": "https://localhost:8080/",
          "height": 282
        },
        "id": "QH8dZVjC38a3",
        "outputId": "71b2a086-3cf2-42c2-edc3-e3af1b1e3207"
      },
      "execution_count": 13,
      "outputs": [
        {
          "output_type": "execute_result",
          "data": {
            "text/plain": [
              "<matplotlib.axes._subplots.AxesSubplot at 0x7f82c8328650>"
            ]
          },
          "metadata": {},
          "execution_count": 13
        },
        {
          "output_type": "display_data",
          "data": {
            "image/png": "[encoded data removed]",
            "text/plain": [
              "<Figure size 432x288 with 1 Axes>"
            ]
          },
          "metadata": {
            "needs_background": "light"
          }
        }
      ]
    },
    {
      "cell_type": "code",
      "source": [
        "#Get model prediction accuracy on test data\n",
        "model.evaluate(X_test,y_test,verbose=1) "
      ],
      "metadata": {
        "colab": {
          "base_uri": "https://localhost:8080/"
        },
        "id": "22HnoRr84Kul",
        "outputId": "09c12180-d56b-4e7c-bbf1-6b6b922acf0c"
      },
      "execution_count": 14,
      "outputs": [
        {
          "output_type": "stream",
          "name": "stdout",
          "text": [
            "63/63 [==============================] - 0s 949us/step - loss: 0.3291 - accuracy: 0.8645\n"
          ]
        },
        {
          "output_type": "execute_result",
          "data": {
            "text/plain": [
              "[0.3290957808494568, 0.8644999861717224]"
            ]
          },
          "metadata": {},
          "execution_count": 14
        }
      ]
    },
    {
      "cell_type": "code",
      "source": [
        "#Confusion matrix. Get details about each type of prediction\n",
        "y_pred = model.predict(X_test)\n",
        "y_pred = (y_pred > 0.5) # creates a new array with true/false based on the boolean test\n",
        "\n",
        "cm = confusion_matrix(y_test, y_pred)\n",
        "print(cm)\n",
        "\n",
        "# will return a 2D array like this (random numbers):\n",
        "#[[6432   326]\n",
        " #[ 481  1190]]\n",
        "\n",
        "# interpretation:\n",
        "# Top-left: 6432 correct predictions of 1. \n",
        "# Top-right: 326 incorrect predictions of 1, when the y_test was 0.\n",
        "# Bottom-left: 481 incorrect predictions of 0, when the y_test was 1.\n",
        "# Bottom-right: 1190 correct predictions of 0"
      ],
      "metadata": {
        "colab": {
          "base_uri": "https://localhost:8080/"
        },
        "id": "O9Vqu2Qc5hB7",
        "outputId": "2314ba87-d37f-4cb4-c984-e1ec8cd2378a"
      },
      "execution_count": 15,
      "outputs": [
        {
          "output_type": "stream",
          "name": "stdout",
          "text": [
            "[[1540   67]\n",
            " [ 204  189]]\n"
          ]
        }
      ]
    },
    {
      "cell_type": "code",
      "source": [
        "print(columnNames) # first print column names, so you can enter new data in the correct columns"
      ],
      "metadata": {
        "colab": {
          "base_uri": "https://localhost:8080/"
        },
        "id": "gPmbGXRtbZZU",
        "outputId": "38c921bd-51d5-4dbc-b2d7-289a35c8d053"
      },
      "execution_count": 16,
      "outputs": [
        {
          "output_type": "stream",
          "name": "stdout",
          "text": [
            "['Age', 'Tenure', 'Balance', 'NumOfProducts', 'HasCrCard', 'IsActiveMember', 'EstimatedSalary', 'Geography_France', 'Geography_Germany', 'Geography_Spain', 'Gender_Female', 'Gender_Male']\n"
          ]
        }
      ]
    },
    {
      "cell_type": "code",
      "source": [
        "new_value = [[40, 3, 60000, 2, 1, 1, 50000, 1, 0, 0, 0, 1]] # enter new data in 2D array. Only numbers + dummy variables. \n",
        "\n",
        "new_value = scaler.transform(new_value) # Don't forget to scale!\n",
        "print(new_value)\n",
        "model.predict(new_value)"
      ],
      "metadata": {
        "colab": {
          "base_uri": "https://localhost:8080/"
        },
        "id": "c_GSMZ4dMhN6",
        "outputId": "a048a65f-d915-418f-b4e7-d67c34539618"
      },
      "execution_count": 17,
      "outputs": [
        {
          "output_type": "stream",
          "name": "stdout",
          "text": [
            "[[ 0.10281024 -0.69598177 -0.26422114  0.80773656  0.64609167  0.97024255\n",
            "  -0.87101922  0.99720391 -0.57873591 -0.57380915 -0.91241915  0.91241915]]\n"
          ]
        },
        {
          "output_type": "execute_result",
          "data": {
            "text/plain": [
              "array([[0.03660366]], dtype=float32)"
            ]
          },
          "metadata": {},
          "execution_count": 17
        }
      ]
    },
    {
      "cell_type": "code",
      "source": [
        "model.save('Customer_staying_Improoved.h5')  # creates a HDF5 file 'my_model.h5'"
      ],
      "metadata": {
        "id": "cCfG6gtIMqlf"
      },
      "execution_count": 18,
      "outputs": []
    },
    {
      "cell_type": "code",
      "source": [
        "#myModel = load_model('my_model.h5') # myModel is ready for predicting right away!"
      ],
      "metadata": {
        "id": "mH_uYJhTMxlF"
      },
      "execution_count": null,
      "outputs": []
    },
    {
      "cell_type": "code",
      "source": [
        "# Geography: France\n",
        "# Credit Score: 600\n",
        "# Gender: Male\n",
        "# Age: 40 years old\n",
        "# Tenure: 3 years\n",
        "# Balance: $ 60000\n",
        "# Number of Products: 2\n",
        "# Does this customer have a credit card? Yes\n",
        "# Is this customer an Active Member: Yes\n",
        "# Estimated Salary: $ 50000\n",
        "# # "
      ],
      "metadata": {
        "id": "jJ8xqhg4Ssvc"
      },
      "execution_count": null,
      "outputs": []
    },
    {
      "cell_type": "code",
      "source": [
        ""
      ],
      "metadata": {
        "colab": {
          "base_uri": "https://localhost:8080/"
        },
        "id": "2nCymkfVajay",
        "outputId": "715b462a-7f77-4af5-dc53-adc878ca294c"
      },
      "execution_count": 19,
      "outputs": [
        {
          "output_type": "stream",
          "name": "stdout",
          "text": [
            "fatal: not a git repository (or any of the parent directories): .git\n"
          ]
        }
      ]
    }
  ]
}