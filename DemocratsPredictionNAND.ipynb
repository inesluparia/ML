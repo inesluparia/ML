{
  "nbformat": 4,
  "nbformat_minor": 0,
  "metadata": {
    "colab": {
      "name": "DemocratsPredictionNAND.ipynb",
      "provenance": [],
      "collapsed_sections": [],
      "authorship_tag": "ABX9TyMO8nyuCM2JN4xTx2BjE1Q8",
      "include_colab_link": true
    },
    "kernelspec": {
      "name": "python3",
      "display_name": "Python 3"
    },
    "language_info": {
      "name": "python"
    }
  },
  "cells": [
    {
      "cell_type": "markdown",
      "metadata": {
        "id": "view-in-github",
        "colab_type": "text"
      },
      "source": [
        "<a href=\"https://colab.research.google.com/github/inesluparia/ML/blob/master/DemocratsPredictionNAND.ipynb\" target=\"_parent\"><img src=\"https://colab.research.google.com/assets/colab-badge.svg\" alt=\"Open In Colab\"/></a>"
      ]
    },
    {
      "cell_type": "code",
      "source": [
        "import numpy as np\n",
        "from tensorflow.keras.models import Sequential\n",
        "from tensorflow.keras.layers import Dense, Activation\n",
        "from tensorflow.keras import optimizers"
      ],
      "metadata": {
        "id": "azXLjfklvl-3"
      },
      "execution_count": null,
      "outputs": []
    },
    {
      "cell_type": "code",
      "source": [
        "model = Sequential()\n",
        "model.add(Dense(6, input_dim=6, activation='relu'))\n",
        "model.add(Dense(3, activation='relu'))\n",
        "adam = optimizers.Adam(learning_rate=0.01)\n",
        "model.compile(loss='mean_squared_error', optimizer=adam)"
      ],
      "metadata": {
        "id": "TqAcoNrrwvvm"
      },
      "execution_count": null,
      "outputs": []
    },
    {
      "cell_type": "code",
      "source": [
        "x = np.array([\n",
        "  [0.27, 0.24, 1, 1, 0, 0],  \n",
        "  [0.48, 0.98, -1, 0, 1, 0],\n",
        "  [0.33, 0.44, 1, 0, 0, 1],\n",
        "  [0.30, 0.29, 1, 0, 1, 0],\n",
        "  [0.66, 0.65, -1, 1, 0, 0]])\t\n",
        "y = np.array([[1,0,0],[0,1,0],[0,1,0],[0,0,1],[1,0,0]])"
      ],
      "metadata": {
        "id": "9Gkbq7oixhGU"
      },
      "execution_count": null,
      "outputs": []
    },
    {
      "cell_type": "code",
      "source": [
        "print(y)"
      ],
      "metadata": {
        "colab": {
          "base_uri": "https://localhost:8080/"
        },
        "id": "ApEH1FuCbW_K",
        "outputId": "806d4773-dfd8-438f-a383-1c10ed045450"
      },
      "execution_count": null,
      "outputs": [
        {
          "output_type": "stream",
          "name": "stdout",
          "text": [
            "[[1 0 0]\n",
            " [0 1 0]\n",
            " [0 1 0]\n",
            " [0 0 1]\n",
            " [1 0 0]]\n"
          ]
        }
      ]
    },
    {
      "cell_type": "code",
      "source": [
        "history = model.fit(x,y,epochs=1000, batch_size=6, verbose=1)"
      ],
      "metadata": {
        "id": "wkXC0hh2yNdE"
      },
      "execution_count": null,
      "outputs": []
    },
    {
      "cell_type": "code",
      "source": [
        "prediction = model.predict([[0.38,0.51, -1, 1, 0, 0]])\n",
        "print(prediction)"
      ],
      "metadata": {
        "colab": {
          "base_uri": "https://localhost:8080/"
        },
        "id": "VyggMwHH95Bd",
        "outputId": "1be7c099-7a50-40cf-bb8d-d91989765041"
      },
      "execution_count": null,
      "outputs": [
        {
          "output_type": "stream",
          "name": "stdout",
          "text": [
            "[[0.82321185 0.         0.        ]]\n"
          ]
        }
      ]
    },
    {
      "cell_type": "markdown",
      "source": [
        "IT'S A DEMOCRAT!"
      ],
      "metadata": {
        "id": "gCL2d7QWCmaV"
      }
    }
  ]
}