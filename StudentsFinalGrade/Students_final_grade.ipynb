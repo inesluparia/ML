{
  "nbformat": 4,
  "nbformat_minor": 0,
  "metadata": {
    "colab": {
      "name": "Students_final_grade.ipynb",
      "provenance": [],
      "collapsed_sections": [],
      "authorship_tag": "ABX9TyOK+lTFVygczGufcCwc2p+R",
      "include_colab_link": true
    },
    "kernelspec": {
      "name": "python3",
      "display_name": "Python 3"
    },
    "language_info": {
      "name": "python"
    }
  },
  "cells": [
    {
      "cell_type": "markdown",
      "metadata": {
        "id": "view-in-github",
        "colab_type": "text"
      },
      "source": [
        "<a href=\"https://colab.research.google.com/github/inesluparia/ML/blob/master/Students_final_grade.ipynb\" target=\"_parent\"><img src=\"https://colab.research.google.com/assets/colab-badge.svg\" alt=\"Open In Colab\"/></a>"
      ]
    },
    {
      "cell_type": "code",
      "execution_count": null,
      "metadata": {
        "id": "jIgMP-UywHT6"
      },
      "outputs": [],
      "source": [
        "import numpy as np\n",
        "import pandas as pd\n",
        "import seaborn as sns\n",
        "from sklearn.model_selection import train_test_split\n",
        "from sklearn.preprocessing import StandardScaler\n",
        "from tensorflow.keras.models import Sequential, load_model\n",
        "from tensorflow.keras.layers import Dense\n",
        "from tensorflow.keras.optimizers import Adam\n",
        "from sklearn.metrics import confusion_matrix, accuracy_score\n"
      ]
    },
    {
      "cell_type": "code",
      "source": [
        "!git clone https://github.com/inesluparia/ML.git"
      ],
      "metadata": {
        "colab": {
          "base_uri": "https://localhost:8080/"
        },
        "id": "I3-rH8g3xBAO",
        "outputId": "1a930583-6767-4380-d338-fa58a326f408"
      },
      "execution_count": null,
      "outputs": [
        {
          "output_type": "stream",
          "name": "stdout",
          "text": [
            "fatal: destination path 'ML' already exists and is not an empty directory.\n"
          ]
        }
      ]
    },
    {
      "cell_type": "code",
      "source": [
        "dataFrame = pd.read_csv('ML/student_prediction.csv')"
      ],
      "metadata": {
        "id": "e5W0OkNFzwMy"
      },
      "execution_count": null,
      "outputs": []
    },
    {
      "cell_type": "code",
      "source": [
        "dataFrame.head() #print top of the data"
      ],
      "metadata": {
        "colab": {
          "base_uri": "https://localhost:8080/",
          "height": 288
        },
        "id": "BTzDPuEF0Fpc",
        "outputId": "0523e440-2d50-4401-8da7-02dc1d884739"
      },
      "execution_count": null,
      "outputs": [
        {
          "output_type": "execute_result",
          "data": {
            "text/html": [
              "\n",
              "  <div id=\"df-a2cb8fa5-dfd0-40a0-9eab-57b5ac6b0e81\">\n",
              "    <div class=\"colab-df-container\">\n",
              "      <div>\n",
              "<style scoped>\n",
              "    .dataframe tbody tr th:only-of-type {\n",
              "        vertical-align: middle;\n",
              "    }\n",
              "\n",
              "    .dataframe tbody tr th {\n",
              "        vertical-align: top;\n",
              "    }\n",
              "\n",
              "    .dataframe thead th {\n",
              "        text-align: right;\n",
              "    }\n",
              "</style>\n",
              "<table border=\"1\" class=\"dataframe\">\n",
              "  <thead>\n",
              "    <tr style=\"text-align: right;\">\n",
              "      <th></th>\n",
              "      <th>STUDENTID</th>\n",
              "      <th>AGE</th>\n",
              "      <th>GENDER</th>\n",
              "      <th>HS_TYPE</th>\n",
              "      <th>SCHOLARSHIP</th>\n",
              "      <th>WORK</th>\n",
              "      <th>ACTIVITY</th>\n",
              "      <th>PARTNER</th>\n",
              "      <th>SALARY</th>\n",
              "      <th>TRANSPORT</th>\n",
              "      <th>LIVING</th>\n",
              "      <th>MOTHER_EDU</th>\n",
              "      <th>FATHER_EDU</th>\n",
              "      <th>#_SIBLINGS</th>\n",
              "      <th>KIDS</th>\n",
              "      <th>MOTHER_JOB</th>\n",
              "      <th>FATHER_JOB</th>\n",
              "      <th>STUDY_HRS</th>\n",
              "      <th>READ_FREQ</th>\n",
              "      <th>READ_FREQ_SCI</th>\n",
              "      <th>ATTEND_DEPT</th>\n",
              "      <th>IMPACT</th>\n",
              "      <th>ATTEND</th>\n",
              "      <th>PREP_STUDY</th>\n",
              "      <th>PREP_EXAM</th>\n",
              "      <th>NOTES</th>\n",
              "      <th>LISTENS</th>\n",
              "      <th>LIKES_DISCUSS</th>\n",
              "      <th>CLASSROOM</th>\n",
              "      <th>CUML_GPA</th>\n",
              "      <th>EXP_GPA</th>\n",
              "      <th>COURSE ID</th>\n",
              "      <th>GRADE</th>\n",
              "    </tr>\n",
              "  </thead>\n",
              "  <tbody>\n",
              "    <tr>\n",
              "      <th>0</th>\n",
              "      <td>STUDENT1</td>\n",
              "      <td>2</td>\n",
              "      <td>2</td>\n",
              "      <td>3</td>\n",
              "      <td>3</td>\n",
              "      <td>1</td>\n",
              "      <td>2</td>\n",
              "      <td>2</td>\n",
              "      <td>1</td>\n",
              "      <td>1</td>\n",
              "      <td>1</td>\n",
              "      <td>1</td>\n",
              "      <td>2</td>\n",
              "      <td>3</td>\n",
              "      <td>1</td>\n",
              "      <td>2</td>\n",
              "      <td>5</td>\n",
              "      <td>3</td>\n",
              "      <td>2</td>\n",
              "      <td>2</td>\n",
              "      <td>1</td>\n",
              "      <td>1</td>\n",
              "      <td>1</td>\n",
              "      <td>1</td>\n",
              "      <td>1</td>\n",
              "      <td>3</td>\n",
              "      <td>2</td>\n",
              "      <td>1</td>\n",
              "      <td>2</td>\n",
              "      <td>1</td>\n",
              "      <td>1</td>\n",
              "      <td>1</td>\n",
              "      <td>1</td>\n",
              "    </tr>\n",
              "    <tr>\n",
              "      <th>1</th>\n",
              "      <td>STUDENT2</td>\n",
              "      <td>2</td>\n",
              "      <td>2</td>\n",
              "      <td>3</td>\n",
              "      <td>3</td>\n",
              "      <td>1</td>\n",
              "      <td>2</td>\n",
              "      <td>2</td>\n",
              "      <td>1</td>\n",
              "      <td>1</td>\n",
              "      <td>1</td>\n",
              "      <td>2</td>\n",
              "      <td>3</td>\n",
              "      <td>2</td>\n",
              "      <td>1</td>\n",
              "      <td>2</td>\n",
              "      <td>1</td>\n",
              "      <td>2</td>\n",
              "      <td>2</td>\n",
              "      <td>2</td>\n",
              "      <td>1</td>\n",
              "      <td>1</td>\n",
              "      <td>1</td>\n",
              "      <td>1</td>\n",
              "      <td>1</td>\n",
              "      <td>3</td>\n",
              "      <td>2</td>\n",
              "      <td>3</td>\n",
              "      <td>2</td>\n",
              "      <td>2</td>\n",
              "      <td>3</td>\n",
              "      <td>1</td>\n",
              "      <td>1</td>\n",
              "    </tr>\n",
              "    <tr>\n",
              "      <th>2</th>\n",
              "      <td>STUDENT3</td>\n",
              "      <td>2</td>\n",
              "      <td>2</td>\n",
              "      <td>2</td>\n",
              "      <td>3</td>\n",
              "      <td>2</td>\n",
              "      <td>2</td>\n",
              "      <td>2</td>\n",
              "      <td>2</td>\n",
              "      <td>4</td>\n",
              "      <td>2</td>\n",
              "      <td>2</td>\n",
              "      <td>2</td>\n",
              "      <td>2</td>\n",
              "      <td>1</td>\n",
              "      <td>2</td>\n",
              "      <td>1</td>\n",
              "      <td>2</td>\n",
              "      <td>1</td>\n",
              "      <td>2</td>\n",
              "      <td>1</td>\n",
              "      <td>1</td>\n",
              "      <td>1</td>\n",
              "      <td>1</td>\n",
              "      <td>1</td>\n",
              "      <td>2</td>\n",
              "      <td>2</td>\n",
              "      <td>1</td>\n",
              "      <td>1</td>\n",
              "      <td>2</td>\n",
              "      <td>2</td>\n",
              "      <td>1</td>\n",
              "      <td>1</td>\n",
              "    </tr>\n",
              "    <tr>\n",
              "      <th>3</th>\n",
              "      <td>STUDENT4</td>\n",
              "      <td>1</td>\n",
              "      <td>1</td>\n",
              "      <td>1</td>\n",
              "      <td>3</td>\n",
              "      <td>1</td>\n",
              "      <td>2</td>\n",
              "      <td>1</td>\n",
              "      <td>2</td>\n",
              "      <td>1</td>\n",
              "      <td>2</td>\n",
              "      <td>1</td>\n",
              "      <td>2</td>\n",
              "      <td>5</td>\n",
              "      <td>1</td>\n",
              "      <td>2</td>\n",
              "      <td>1</td>\n",
              "      <td>3</td>\n",
              "      <td>1</td>\n",
              "      <td>2</td>\n",
              "      <td>1</td>\n",
              "      <td>1</td>\n",
              "      <td>1</td>\n",
              "      <td>1</td>\n",
              "      <td>2</td>\n",
              "      <td>3</td>\n",
              "      <td>2</td>\n",
              "      <td>2</td>\n",
              "      <td>1</td>\n",
              "      <td>3</td>\n",
              "      <td>2</td>\n",
              "      <td>1</td>\n",
              "      <td>1</td>\n",
              "    </tr>\n",
              "    <tr>\n",
              "      <th>4</th>\n",
              "      <td>STUDENT5</td>\n",
              "      <td>2</td>\n",
              "      <td>2</td>\n",
              "      <td>1</td>\n",
              "      <td>3</td>\n",
              "      <td>2</td>\n",
              "      <td>2</td>\n",
              "      <td>1</td>\n",
              "      <td>3</td>\n",
              "      <td>1</td>\n",
              "      <td>4</td>\n",
              "      <td>3</td>\n",
              "      <td>3</td>\n",
              "      <td>2</td>\n",
              "      <td>1</td>\n",
              "      <td>2</td>\n",
              "      <td>4</td>\n",
              "      <td>2</td>\n",
              "      <td>1</td>\n",
              "      <td>1</td>\n",
              "      <td>1</td>\n",
              "      <td>1</td>\n",
              "      <td>1</td>\n",
              "      <td>2</td>\n",
              "      <td>1</td>\n",
              "      <td>2</td>\n",
              "      <td>2</td>\n",
              "      <td>2</td>\n",
              "      <td>1</td>\n",
              "      <td>2</td>\n",
              "      <td>2</td>\n",
              "      <td>1</td>\n",
              "      <td>1</td>\n",
              "    </tr>\n",
              "  </tbody>\n",
              "</table>\n",
              "</div>\n",
              "      <button class=\"colab-df-convert\" onclick=\"convertToInteractive('df-a2cb8fa5-dfd0-40a0-9eab-57b5ac6b0e81')\"\n",
              "              title=\"Convert this dataframe to an interactive table.\"\n",
              "              style=\"display:none;\">\n",
              "        \n",
              "  <svg xmlns=\"http://www.w3.org/2000/svg\" height=\"24px\"viewBox=\"0 0 24 24\"\n",
              "       width=\"24px\">\n",
              "    <path d=\"M0 0h24v24H0V0z\" fill=\"none\"/>\n",
              "    <path d=\"M18.56 5.44l.94 2.06.94-2.06 2.06-.94-2.06-.94-.94-2.06-.94 2.06-2.06.94zm-11 1L8.5 8.5l.94-2.06 2.06-.94-2.06-.94L8.5 2.5l-.94 2.06-2.06.94zm10 10l.94 2.06.94-2.06 2.06-.94-2.06-.94-.94-2.06-.94 2.06-2.06.94z\"/><path d=\"M17.41 7.96l-1.37-1.37c-.4-.4-.92-.59-1.43-.59-.52 0-1.04.2-1.43.59L10.3 9.45l-7.72 7.72c-.78.78-.78 2.05 0 2.83L4 21.41c.39.39.9.59 1.41.59.51 0 1.02-.2 1.41-.59l7.78-7.78 2.81-2.81c.8-.78.8-2.07 0-2.86zM5.41 20L4 18.59l7.72-7.72 1.47 1.35L5.41 20z\"/>\n",
              "  </svg>\n",
              "      </button>\n",
              "      \n",
              "  <style>\n",
              "    .colab-df-container {\n",
              "      display:flex;\n",
              "      flex-wrap:wrap;\n",
              "      gap: 12px;\n",
              "    }\n",
              "\n",
              "    .colab-df-convert {\n",
              "      background-color: #E8F0FE;\n",
              "      border: none;\n",
              "      border-radius: 50%;\n",
              "      cursor: pointer;\n",
              "      display: none;\n",
              "      fill: #1967D2;\n",
              "      height: 32px;\n",
              "      padding: 0 0 0 0;\n",
              "      width: 32px;\n",
              "    }\n",
              "\n",
              "    .colab-df-convert:hover {\n",
              "      background-color: #E2EBFA;\n",
              "      box-shadow: 0px 1px 2px rgba(60, 64, 67, 0.3), 0px 1px 3px 1px rgba(60, 64, 67, 0.15);\n",
              "      fill: #174EA6;\n",
              "    }\n",
              "\n",
              "    [theme=dark] .colab-df-convert {\n",
              "      background-color: #3B4455;\n",
              "      fill: #D2E3FC;\n",
              "    }\n",
              "\n",
              "    [theme=dark] .colab-df-convert:hover {\n",
              "      background-color: #434B5C;\n",
              "      box-shadow: 0px 1px 3px 1px rgba(0, 0, 0, 0.15);\n",
              "      filter: drop-shadow(0px 1px 2px rgba(0, 0, 0, 0.3));\n",
              "      fill: #FFFFFF;\n",
              "    }\n",
              "  </style>\n",
              "\n",
              "      <script>\n",
              "        const buttonEl =\n",
              "          document.querySelector('#df-a2cb8fa5-dfd0-40a0-9eab-57b5ac6b0e81 button.colab-df-convert');\n",
              "        buttonEl.style.display =\n",
              "          google.colab.kernel.accessAllowed ? 'block' : 'none';\n",
              "\n",
              "        async function convertToInteractive(key) {\n",
              "          const element = document.querySelector('#df-a2cb8fa5-dfd0-40a0-9eab-57b5ac6b0e81');\n",
              "          const dataTable =\n",
              "            await google.colab.kernel.invokeFunction('convertToInteractive',\n",
              "                                                     [key], {});\n",
              "          if (!dataTable) return;\n",
              "\n",
              "          const docLinkHtml = 'Like what you see? Visit the ' +\n",
              "            '<a target=\"_blank\" href=https://colab.research.google.com/notebooks/data_table.ipynb>data table notebook</a>'\n",
              "            + ' to learn more about interactive tables.';\n",
              "          element.innerHTML = '';\n",
              "          dataTable['output_type'] = 'display_data';\n",
              "          await google.colab.output.renderOutput(dataTable, element);\n",
              "          const docLink = document.createElement('div');\n",
              "          docLink.innerHTML = docLinkHtml;\n",
              "          element.appendChild(docLink);\n",
              "        }\n",
              "      </script>\n",
              "    </div>\n",
              "  </div>\n",
              "  "
            ],
            "text/plain": [
              "  STUDENTID  AGE  GENDER  HS_TYPE  SCHOLARSHIP  WORK  ACTIVITY  PARTNER  \\\n",
              "0  STUDENT1    2       2        3            3     1         2        2   \n",
              "1  STUDENT2    2       2        3            3     1         2        2   \n",
              "2  STUDENT3    2       2        2            3     2         2        2   \n",
              "3  STUDENT4    1       1        1            3     1         2        1   \n",
              "4  STUDENT5    2       2        1            3     2         2        1   \n",
              "\n",
              "   SALARY  TRANSPORT  LIVING  MOTHER_EDU  FATHER_EDU  #_SIBLINGS  KIDS  \\\n",
              "0       1          1       1           1           2           3     1   \n",
              "1       1          1       1           2           3           2     1   \n",
              "2       2          4       2           2           2           2     1   \n",
              "3       2          1       2           1           2           5     1   \n",
              "4       3          1       4           3           3           2     1   \n",
              "\n",
              "   MOTHER_JOB  FATHER_JOB  STUDY_HRS  READ_FREQ  READ_FREQ_SCI  ATTEND_DEPT  \\\n",
              "0           2           5          3          2              2            1   \n",
              "1           2           1          2          2              2            1   \n",
              "2           2           1          2          1              2            1   \n",
              "3           2           1          3          1              2            1   \n",
              "4           2           4          2          1              1            1   \n",
              "\n",
              "   IMPACT  ATTEND  PREP_STUDY  PREP_EXAM  NOTES  LISTENS  LIKES_DISCUSS  \\\n",
              "0       1       1           1          1      3        2              1   \n",
              "1       1       1           1          1      3        2              3   \n",
              "2       1       1           1          1      2        2              1   \n",
              "3       1       1           1          2      3        2              2   \n",
              "4       1       1           2          1      2        2              2   \n",
              "\n",
              "   CLASSROOM  CUML_GPA  EXP_GPA  COURSE ID  GRADE  \n",
              "0          2         1        1          1      1  \n",
              "1          2         2        3          1      1  \n",
              "2          1         2        2          1      1  \n",
              "3          1         3        2          1      1  \n",
              "4          1         2        2          1      1  "
            ]
          },
          "metadata": {},
          "execution_count": 30
        }
      ]
    },
    {
      "cell_type": "code",
      "source": [
        "dataFrame.shape"
      ],
      "metadata": {
        "colab": {
          "base_uri": "https://localhost:8080/"
        },
        "id": "9bSubHBnqSJb",
        "outputId": "eac0e26d-0b84-424d-fdce-b2c351359da2"
      },
      "execution_count": null,
      "outputs": [
        {
          "output_type": "execute_result",
          "data": {
            "text/plain": [
              "(145, 33)"
            ]
          },
          "metadata": {},
          "execution_count": 31
        }
      ]
    },
    {
      "cell_type": "code",
      "source": [
        "dataFrame.columns"
      ],
      "metadata": {
        "colab": {
          "base_uri": "https://localhost:8080/"
        },
        "id": "W-u-UssyqZCV",
        "outputId": "2b55da40-48fc-4869-9c4d-c6dd7b594add"
      },
      "execution_count": null,
      "outputs": [
        {
          "output_type": "execute_result",
          "data": {
            "text/plain": [
              "Index(['STUDENTID', 'AGE', 'GENDER', 'HS_TYPE', 'SCHOLARSHIP', 'WORK',\n",
              "       'ACTIVITY', 'PARTNER', 'SALARY', 'TRANSPORT', 'LIVING', 'MOTHER_EDU',\n",
              "       'FATHER_EDU', '#_SIBLINGS', 'KIDS', 'MOTHER_JOB', 'FATHER_JOB',\n",
              "       'STUDY_HRS', 'READ_FREQ', 'READ_FREQ_SCI', 'ATTEND_DEPT', 'IMPACT',\n",
              "       'ATTEND', 'PREP_STUDY', 'PREP_EXAM', 'NOTES', 'LISTENS',\n",
              "       'LIKES_DISCUSS', 'CLASSROOM', 'CUML_GPA', 'EXP_GPA', 'COURSE ID',\n",
              "       'GRADE'],\n",
              "      dtype='object')"
            ]
          },
          "metadata": {},
          "execution_count": 32
        }
      ]
    },
    {
      "cell_type": "code",
      "source": [
        "dataframe = dataFrame.drop(['STUDENTID','CLASSROOM', 'IMPACT', 'COURSE ID'], axis=1)"
      ],
      "metadata": {
        "id": "SV31C_Orqd4z"
      },
      "execution_count": null,
      "outputs": []
    },
    {
      "cell_type": "code",
      "source": [
        "dataframe.shape"
      ],
      "metadata": {
        "colab": {
          "base_uri": "https://localhost:8080/"
        },
        "id": "Z38xOAz0s4bx",
        "outputId": "2b33b503-01bf-4321-a9bc-231042f86803"
      },
      "execution_count": null,
      "outputs": [
        {
          "output_type": "execute_result",
          "data": {
            "text/plain": [
              "(145, 29)"
            ]
          },
          "metadata": {},
          "execution_count": 34
        }
      ]
    },
    {
      "cell_type": "code",
      "source": [
        "dataframe.columns"
      ],
      "metadata": {
        "colab": {
          "base_uri": "https://localhost:8080/"
        },
        "id": "pPnQQILWspdd",
        "outputId": "8a5df898-1b75-4368-a98d-b603222ef754"
      },
      "execution_count": null,
      "outputs": [
        {
          "output_type": "execute_result",
          "data": {
            "text/plain": [
              "Index(['AGE', 'GENDER', 'HS_TYPE', 'SCHOLARSHIP', 'WORK', 'ACTIVITY',\n",
              "       'PARTNER', 'SALARY', 'TRANSPORT', 'LIVING', 'MOTHER_EDU', 'FATHER_EDU',\n",
              "       '#_SIBLINGS', 'KIDS', 'MOTHER_JOB', 'FATHER_JOB', 'STUDY_HRS',\n",
              "       'READ_FREQ', 'READ_FREQ_SCI', 'ATTEND_DEPT', 'ATTEND', 'PREP_STUDY',\n",
              "       'PREP_EXAM', 'NOTES', 'LISTENS', 'LIKES_DISCUSS', 'CUML_GPA', 'EXP_GPA',\n",
              "       'GRADE'],\n",
              "      dtype='object')"
            ]
          },
          "metadata": {},
          "execution_count": 35
        }
      ]
    },
    {
      "cell_type": "code",
      "source": [
        "dataframe = pd.get_dummies(dataframe, columns=['GENDER']) \n",
        "#dataframe = pd.get_dummies(dataframe, columns=['GRADE']) \n"
      ],
      "metadata": {
        "id": "Zi8EBH3dwD-6"
      },
      "execution_count": null,
      "outputs": []
    },
    {
      "cell_type": "code",
      "source": [
        "dataframe.shape"
      ],
      "metadata": {
        "colab": {
          "base_uri": "https://localhost:8080/"
        },
        "id": "gxQYNysQwnb2",
        "outputId": "4fbcbcd2-7363-4518-e0cb-f0368eddcab7"
      },
      "execution_count": null,
      "outputs": [
        {
          "output_type": "execute_result",
          "data": {
            "text/plain": [
              "(145, 30)"
            ]
          },
          "metadata": {},
          "execution_count": 37
        }
      ]
    },
    {
      "cell_type": "code",
      "source": [
        "pd.set_option('display.max_columns', None) # print all columns\n",
        "X = dataFrame.iloc[:, 1:-1] # select relevant rows and columns to X\n",
        "y = dataFrame.iloc[:,-1] # select column(s) for y (here only the last column)"
      ],
      "metadata": {
        "id": "-aPxr0iU0mfS"
      },
      "execution_count": null,
      "outputs": []
    },
    {
      "cell_type": "code",
      "source": [
        "dataFrame.info()"
      ],
      "metadata": {
        "colab": {
          "base_uri": "https://localhost:8080/"
        },
        "id": "EkJJOSnfujzP",
        "outputId": "a61360d7-3d39-467a-f912-8f0a300ec7cd"
      },
      "execution_count": null,
      "outputs": [
        {
          "output_type": "stream",
          "name": "stdout",
          "text": [
            "<class 'pandas.core.frame.DataFrame'>\n",
            "RangeIndex: 145 entries, 0 to 144\n",
            "Data columns (total 33 columns):\n",
            " #   Column         Non-Null Count  Dtype \n",
            "---  ------         --------------  ----- \n",
            " 0   STUDENTID      145 non-null    object\n",
            " 1   AGE            145 non-null    int64 \n",
            " 2   GENDER         145 non-null    int64 \n",
            " 3   HS_TYPE        145 non-null    int64 \n",
            " 4   SCHOLARSHIP    145 non-null    int64 \n",
            " 5   WORK           145 non-null    int64 \n",
            " 6   ACTIVITY       145 non-null    int64 \n",
            " 7   PARTNER        145 non-null    int64 \n",
            " 8   SALARY         145 non-null    int64 \n",
            " 9   TRANSPORT      145 non-null    int64 \n",
            " 10  LIVING         145 non-null    int64 \n",
            " 11  MOTHER_EDU     145 non-null    int64 \n",
            " 12  FATHER_EDU     145 non-null    int64 \n",
            " 13  #_SIBLINGS     145 non-null    int64 \n",
            " 14  KIDS           145 non-null    int64 \n",
            " 15  MOTHER_JOB     145 non-null    int64 \n",
            " 16  FATHER_JOB     145 non-null    int64 \n",
            " 17  STUDY_HRS      145 non-null    int64 \n",
            " 18  READ_FREQ      145 non-null    int64 \n",
            " 19  READ_FREQ_SCI  145 non-null    int64 \n",
            " 20  ATTEND_DEPT    145 non-null    int64 \n",
            " 21  IMPACT         145 non-null    int64 \n",
            " 22  ATTEND         145 non-null    int64 \n",
            " 23  PREP_STUDY     145 non-null    int64 \n",
            " 24  PREP_EXAM      145 non-null    int64 \n",
            " 25  NOTES          145 non-null    int64 \n",
            " 26  LISTENS        145 non-null    int64 \n",
            " 27  LIKES_DISCUSS  145 non-null    int64 \n",
            " 28  CLASSROOM      145 non-null    int64 \n",
            " 29  CUML_GPA       145 non-null    int64 \n",
            " 30  EXP_GPA        145 non-null    int64 \n",
            " 31  COURSE ID      145 non-null    int64 \n",
            " 32  GRADE          145 non-null    int64 \n",
            "dtypes: int64(32), object(1)\n",
            "memory usage: 37.5+ KB\n"
          ]
        }
      ]
    },
    {
      "cell_type": "code",
      "source": [
        "#print(y[0:5])"
      ],
      "metadata": {
        "id": "fW8K6xRWArB2"
      },
      "execution_count": null,
      "outputs": []
    },
    {
      "cell_type": "code",
      "source": [
        "#not needed here done before... X = pd.get_dummies(X) # convert ALL text-columns to categorical variables (One Hot encoding), e.g. gender, country etc.\n",
        "columnNames = list(X.columns) # grab column-names before converting to numpy array\n",
        "X = X.values # convert from Pandas dataframe to numpy array\n",
        "y = y.values # convert from Pandas dataframe to numpy array"
      ],
      "metadata": {
        "id": "G8rTVvpA1NZC"
      },
      "execution_count": null,
      "outputs": []
    },
    {
      "cell_type": "code",
      "source": [
        "print(X[0:4,:])"
      ],
      "metadata": {
        "id": "6eDf2bj314eI",
        "colab": {
          "base_uri": "https://localhost:8080/"
        },
        "outputId": "4d5a3cc4-f731-4b65-9e52-33edcf361fc6"
      },
      "execution_count": null,
      "outputs": [
        {
          "output_type": "stream",
          "name": "stdout",
          "text": [
            "[[2 2 3 3 1 2 2 1 1 1 1 2 3 1 2 5 3 2 2 1 1 1 1 1 3 2 1 2 1 1 1]\n",
            " [2 2 3 3 1 2 2 1 1 1 2 3 2 1 2 1 2 2 2 1 1 1 1 1 3 2 3 2 2 3 1]\n",
            " [2 2 2 3 2 2 2 2 4 2 2 2 2 1 2 1 2 1 2 1 1 1 1 1 2 2 1 1 2 2 1]\n",
            " [1 1 1 3 1 2 1 2 1 2 1 2 5 1 2 1 3 1 2 1 1 1 1 2 3 2 2 1 3 2 1]]\n"
          ]
        }
      ]
    },
    {
      "cell_type": "code",
      "source": [
        "scaler = StandardScaler()\n",
        "X = scaler.fit_transform(X) # calculate mean and standard deviation and convert dataframe to numpy array\n",
        "#print(X[0:6,:])"
      ],
      "metadata": {
        "id": "mhpELPGS1j5v"
      },
      "execution_count": null,
      "outputs": []
    },
    {
      "cell_type": "markdown",
      "source": [
        "1. WHY DEMOCRATS PREDICTION WAS MEAN SQUARE ERROR??????? HOW IS THAT LINEAR? -IT HAD 3 OUTPUT CAUSE IT WAS TURNED TO CATEGORICAL VALUES LIKE GENDER - ONE HOT ENCODING.\n",
        "2. SEQUENTIAL INSTEAD OF WHAT?\n",
        "3. ACTIVATION CODES FOR OUTPUT? NOT CLEAR WHICH TO USE? BIBLIOGRAPHY? STANDARD NEURONS NUMBER IN LAYERS?"
      ],
      "metadata": {
        "id": "TxJ8d_LMdNtz"
      }
    },
    {
      "cell_type": "code",
      "source": [
        "model = Sequential()\n",
        "#model.add(Dense(30,activation='relu'))\n",
        "model.add(Dense(116,activation='relu')) # 30 outputs. It will automatically adapt to number inputs\n",
        "model.add(Dense(116,activation='relu'))\n",
        "model.add(Dense(1)) # Final output node for prediction. In this case, only one output neuron\n",
        "######model.add(Dense(7)) # Final output node for prediction. In this case, only one output neuron\n",
        "\n",
        "adam = Adam(learning_rate=0.001) \n",
        "model.compile(loss='mse', optimizer=adam, metrics=['accuracy'])  \n",
        "# use loss = 'binary_crossentropy' for two-class classification.\n",
        "#use loss = 'categorical_crossentropy' for multi-class classification.\n",
        "#use loss = mse (Mean Square Error) for regression (e.g. the Age,Height exercise). \n",
        "#use metrics = ['accuracy']. It shows successful predictions / total predictions"
      ],
      "metadata": {
        "id": "rdwPCHwO3PnG"
      },
      "execution_count": null,
      "outputs": []
    },
    {
      "cell_type": "code",
      "source": [
        "X_train, X_test, y_train, y_test = train_test_split(X,y,test_size = 0.2, random_state = 22 )\n",
        "# random_state set to some value will provide same output - its a seed for randomizing"
      ],
      "metadata": {
        "id": "C2t_XFkl3GA7"
      },
      "execution_count": null,
      "outputs": []
    },
    {
      "cell_type": "code",
      "source": [
        "model.fit(X_train,y_train,epochs=1000, verbose=1)  # does the actual WORK !. verbose=1 will show output. 0 = no output."
      ],
      "metadata": {
        "id": "kga9lujk3v2D"
      },
      "execution_count": null,
      "outputs": []
    },
    {
      "cell_type": "code",
      "source": [
        "#show loss vs epochs\n",
        "loss = model.history.history['loss']\n",
        "sns.lineplot(x=range(len(loss)),y=loss)"
      ],
      "metadata": {
        "colab": {
          "base_uri": "https://localhost:8080/",
          "height": 284
        },
        "id": "QH8dZVjC38a3",
        "outputId": "42885b50-1b33-41b9-896d-c95fbdcc8fbe"
      },
      "execution_count": null,
      "outputs": [
        {
          "output_type": "execute_result",
          "data": {
            "text/plain": [
              "<matplotlib.axes._subplots.AxesSubplot at 0x7fafad9e6190>"
            ]
          },
          "metadata": {},
          "execution_count": 47
        },
        {
          "output_type": "display_data",
          "data": {
            "image/png": "[encoded data removed]",
            "text/plain": [
              "<Figure size 432x288 with 1 Axes>"
            ]
          },
          "metadata": {
            "needs_background": "light"
          }
        }
      ]
    },
    {
      "cell_type": "code",
      "source": [
        "#Get model prediction accuracy on test data\n",
        "model.evaluate(X_test,y_test,verbose=1) "
      ],
      "metadata": {
        "colab": {
          "base_uri": "https://localhost:8080/"
        },
        "id": "22HnoRr84Kul",
        "outputId": "fd2b8c74-1dab-43e2-ea49-9dabc13cfd85"
      },
      "execution_count": null,
      "outputs": [
        {
          "output_type": "stream",
          "name": "stdout",
          "text": [
            "1/1 [==============================] - 0s 157ms/step - loss: 3.6756 - accuracy: 0.2414\n"
          ]
        },
        {
          "output_type": "execute_result",
          "data": {
            "text/plain": [
              "[3.675629138946533, 0.24137930572032928]"
            ]
          },
          "metadata": {},
          "execution_count": 48
        }
      ]
    },
    {
      "cell_type": "code",
      "source": [
        "#Confusion matrix. Get details about each type of prediction\n",
        "y_pred = model.predict(X_test)\n",
        "y_pred = (y_pred > 0.5) # creates a new array with true/false based on the boolean test\n",
        "\n",
        "cm = confusion_matrix(y_test, y_pred)\n",
        "print(cm)\n",
        "\n",
        "# will return a 2D array like this (random numbers):\n",
        "#[[6432   326]\n",
        " #[ 481  1190]]\n",
        "\n",
        "# interpretation:\n",
        "# Top-left: 6432 correct predictions of 1. \n",
        "# Top-right: 326 incorrect predictions of 1, when the y_test was 0.\n",
        "# Bottom-left: 481 incorrect predictions of 0, when the y_test was 1.\n",
        "# Bottom-right: 1190 correct predictions of 0"
      ],
      "metadata": {
        "colab": {
          "base_uri": "https://localhost:8080/"
        },
        "id": "O9Vqu2Qc5hB7",
        "outputId": "fbdf1bbd-e893-46ef-870d-71a9696d396a"
      },
      "execution_count": null,
      "outputs": [
        {
          "output_type": "stream",
          "name": "stdout",
          "text": [
            "[[7 0 0 0 0 0 0]\n",
            " [4 0 0 0 0 0 0]\n",
            " [5 0 0 0 0 0 0]\n",
            " [3 0 0 0 0 0 0]\n",
            " [4 0 0 0 0 0 0]\n",
            " [2 0 0 0 0 0 0]\n",
            " [4 0 0 0 0 0 0]]\n"
          ]
        }
      ]
    },
    {
      "cell_type": "code",
      "source": [
        "print(columnNames) # first print column names, so you can enter new data in the correct columns"
      ],
      "metadata": {
        "colab": {
          "base_uri": "https://localhost:8080/"
        },
        "id": "gPmbGXRtbZZU",
        "outputId": "599a963f-4d32-4904-d912-e4bdd310ae94"
      },
      "execution_count": null,
      "outputs": [
        {
          "output_type": "stream",
          "name": "stdout",
          "text": [
            "['AGE', 'GENDER', 'HS_TYPE', 'SCHOLARSHIP', 'WORK', 'ACTIVITY', 'PARTNER', 'SALARY', 'TRANSPORT', 'LIVING', 'MOTHER_EDU', 'FATHER_EDU', '#_SIBLINGS', 'KIDS', 'MOTHER_JOB', 'FATHER_JOB', 'STUDY_HRS', 'READ_FREQ', 'READ_FREQ_SCI', 'ATTEND_DEPT', 'IMPACT', 'ATTEND', 'PREP_STUDY', 'PREP_EXAM', 'NOTES', 'LISTENS', 'LIKES_DISCUSS', 'CLASSROOM', 'CUML_GPA', 'EXP_GPA', 'COURSE ID']\n"
          ]
        }
      ]
    },
    {
      "cell_type": "code",
      "source": [
        "new_value = [[37, 1, 1, 1, 1, 1, 1, 1, 3, 4, 4, 4, 3, 1, 2, 4, 3, 3, 3, 2, 3, 1, 1, 2, 2, 2, 2, 3, 5, 5]] # enter new data in 2D array. Only numbers + dummy variables. \n",
        "new_value = scaler.transform(new_value) # Don't forget to scale!\n",
        "print(new_value)\n",
        "model.predict(new_value)"
      ],
      "metadata": {
        "colab": {
          "base_uri": "https://localhost:8080/",
          "height": 380
        },
        "id": "c_GSMZ4dMhN6",
        "outputId": "0ef1ab56-f5e1-4b29-f3e5-fa3409041477"
      },
      "execution_count": null,
      "outputs": [
        {
          "output_type": "error",
          "ename": "ValueError",
          "evalue": "ignored",
          "traceback": [
            "\u001b[0;31m---------------------------------------------------------------------------\u001b[0m",
            "\u001b[0;31mValueError\u001b[0m                                Traceback (most recent call last)",
            "\u001b[0;32m<ipython-input-51-00ca0afc3a5b>\u001b[0m in \u001b[0;36m<module>\u001b[0;34m()\u001b[0m\n\u001b[1;32m      1\u001b[0m \u001b[0mnew_value\u001b[0m \u001b[0;34m=\u001b[0m \u001b[0;34m[\u001b[0m\u001b[0;34m[\u001b[0m\u001b[0;36m37\u001b[0m\u001b[0;34m,\u001b[0m \u001b[0;36m1\u001b[0m\u001b[0;34m,\u001b[0m \u001b[0;36m1\u001b[0m\u001b[0;34m,\u001b[0m \u001b[0;36m1\u001b[0m\u001b[0;34m,\u001b[0m \u001b[0;36m1\u001b[0m\u001b[0;34m,\u001b[0m \u001b[0;36m1\u001b[0m\u001b[0;34m,\u001b[0m \u001b[0;36m1\u001b[0m\u001b[0;34m,\u001b[0m \u001b[0;36m1\u001b[0m\u001b[0;34m,\u001b[0m \u001b[0;36m3\u001b[0m\u001b[0;34m,\u001b[0m \u001b[0;36m4\u001b[0m\u001b[0;34m,\u001b[0m \u001b[0;36m4\u001b[0m\u001b[0;34m,\u001b[0m \u001b[0;36m4\u001b[0m\u001b[0;34m,\u001b[0m \u001b[0;36m3\u001b[0m\u001b[0;34m,\u001b[0m \u001b[0;36m1\u001b[0m\u001b[0;34m,\u001b[0m \u001b[0;36m2\u001b[0m\u001b[0;34m,\u001b[0m \u001b[0;36m4\u001b[0m\u001b[0;34m,\u001b[0m \u001b[0;36m3\u001b[0m\u001b[0;34m,\u001b[0m \u001b[0;36m3\u001b[0m\u001b[0;34m,\u001b[0m \u001b[0;36m3\u001b[0m\u001b[0;34m,\u001b[0m \u001b[0;36m2\u001b[0m\u001b[0;34m,\u001b[0m \u001b[0;36m3\u001b[0m\u001b[0;34m,\u001b[0m \u001b[0;36m1\u001b[0m\u001b[0;34m,\u001b[0m \u001b[0;36m1\u001b[0m\u001b[0;34m,\u001b[0m \u001b[0;36m2\u001b[0m\u001b[0;34m,\u001b[0m \u001b[0;36m2\u001b[0m\u001b[0;34m,\u001b[0m \u001b[0;36m2\u001b[0m\u001b[0;34m,\u001b[0m \u001b[0;36m2\u001b[0m\u001b[0;34m,\u001b[0m \u001b[0;36m3\u001b[0m\u001b[0;34m,\u001b[0m \u001b[0;36m5\u001b[0m\u001b[0;34m,\u001b[0m \u001b[0;36m5\u001b[0m\u001b[0;34m]\u001b[0m\u001b[0;34m]\u001b[0m \u001b[0;31m# enter new data in 2D array. Only numbers + dummy variables.\u001b[0m\u001b[0;34m\u001b[0m\u001b[0;34m\u001b[0m\u001b[0m\n\u001b[0;32m----> 2\u001b[0;31m \u001b[0mnew_value\u001b[0m \u001b[0;34m=\u001b[0m \u001b[0mscaler\u001b[0m\u001b[0;34m.\u001b[0m\u001b[0mtransform\u001b[0m\u001b[0;34m(\u001b[0m\u001b[0mnew_value\u001b[0m\u001b[0;34m)\u001b[0m \u001b[0;31m# Don't forget to scale!\u001b[0m\u001b[0;34m\u001b[0m\u001b[0;34m\u001b[0m\u001b[0m\n\u001b[0m\u001b[1;32m      3\u001b[0m \u001b[0mprint\u001b[0m\u001b[0;34m(\u001b[0m\u001b[0mnew_value\u001b[0m\u001b[0;34m)\u001b[0m\u001b[0;34m\u001b[0m\u001b[0;34m\u001b[0m\u001b[0m\n\u001b[1;32m      4\u001b[0m \u001b[0mmodel\u001b[0m\u001b[0;34m.\u001b[0m\u001b[0mpredict\u001b[0m\u001b[0;34m(\u001b[0m\u001b[0mnew_value\u001b[0m\u001b[0;34m)\u001b[0m\u001b[0;34m\u001b[0m\u001b[0;34m\u001b[0m\u001b[0m\n",
            "\u001b[0;32m/usr/local/lib/python3.7/dist-packages/sklearn/preprocessing/_data.py\u001b[0m in \u001b[0;36mtransform\u001b[0;34m(self, X, copy)\u001b[0m\n\u001b[1;32m    978\u001b[0m             \u001b[0mestimator\u001b[0m\u001b[0;34m=\u001b[0m\u001b[0mself\u001b[0m\u001b[0;34m,\u001b[0m\u001b[0;34m\u001b[0m\u001b[0;34m\u001b[0m\u001b[0m\n\u001b[1;32m    979\u001b[0m             \u001b[0mdtype\u001b[0m\u001b[0;34m=\u001b[0m\u001b[0mFLOAT_DTYPES\u001b[0m\u001b[0;34m,\u001b[0m\u001b[0;34m\u001b[0m\u001b[0;34m\u001b[0m\u001b[0m\n\u001b[0;32m--> 980\u001b[0;31m             \u001b[0mforce_all_finite\u001b[0m\u001b[0;34m=\u001b[0m\u001b[0;34m\"allow-nan\"\u001b[0m\u001b[0;34m,\u001b[0m\u001b[0;34m\u001b[0m\u001b[0;34m\u001b[0m\u001b[0m\n\u001b[0m\u001b[1;32m    981\u001b[0m         )\n\u001b[1;32m    982\u001b[0m \u001b[0;34m\u001b[0m\u001b[0m\n",
            "\u001b[0;32m/usr/local/lib/python3.7/dist-packages/sklearn/base.py\u001b[0m in \u001b[0;36m_validate_data\u001b[0;34m(self, X, y, reset, validate_separately, **check_params)\u001b[0m\n\u001b[1;32m    583\u001b[0m \u001b[0;34m\u001b[0m\u001b[0m\n\u001b[1;32m    584\u001b[0m         \u001b[0;32mif\u001b[0m \u001b[0;32mnot\u001b[0m \u001b[0mno_val_X\u001b[0m \u001b[0;32mand\u001b[0m \u001b[0mcheck_params\u001b[0m\u001b[0;34m.\u001b[0m\u001b[0mget\u001b[0m\u001b[0;34m(\u001b[0m\u001b[0;34m\"ensure_2d\"\u001b[0m\u001b[0;34m,\u001b[0m \u001b[0;32mTrue\u001b[0m\u001b[0;34m)\u001b[0m\u001b[0;34m:\u001b[0m\u001b[0;34m\u001b[0m\u001b[0;34m\u001b[0m\u001b[0m\n\u001b[0;32m--> 585\u001b[0;31m             \u001b[0mself\u001b[0m\u001b[0;34m.\u001b[0m\u001b[0m_check_n_features\u001b[0m\u001b[0;34m(\u001b[0m\u001b[0mX\u001b[0m\u001b[0;34m,\u001b[0m \u001b[0mreset\u001b[0m\u001b[0;34m=\u001b[0m\u001b[0mreset\u001b[0m\u001b[0;34m)\u001b[0m\u001b[0;34m\u001b[0m\u001b[0;34m\u001b[0m\u001b[0m\n\u001b[0m\u001b[1;32m    586\u001b[0m \u001b[0;34m\u001b[0m\u001b[0m\n\u001b[1;32m    587\u001b[0m         \u001b[0;32mreturn\u001b[0m \u001b[0mout\u001b[0m\u001b[0;34m\u001b[0m\u001b[0;34m\u001b[0m\u001b[0m\n",
            "\u001b[0;32m/usr/local/lib/python3.7/dist-packages/sklearn/base.py\u001b[0m in \u001b[0;36m_check_n_features\u001b[0;34m(self, X, reset)\u001b[0m\n\u001b[1;32m    399\u001b[0m         \u001b[0;32mif\u001b[0m \u001b[0mn_features\u001b[0m \u001b[0;34m!=\u001b[0m \u001b[0mself\u001b[0m\u001b[0;34m.\u001b[0m\u001b[0mn_features_in_\u001b[0m\u001b[0;34m:\u001b[0m\u001b[0;34m\u001b[0m\u001b[0;34m\u001b[0m\u001b[0m\n\u001b[1;32m    400\u001b[0m             raise ValueError(\n\u001b[0;32m--> 401\u001b[0;31m                 \u001b[0;34mf\"X has {n_features} features, but {self.__class__.__name__} \"\u001b[0m\u001b[0;34m\u001b[0m\u001b[0;34m\u001b[0m\u001b[0m\n\u001b[0m\u001b[1;32m    402\u001b[0m                 \u001b[0;34mf\"is expecting {self.n_features_in_} features as input.\"\u001b[0m\u001b[0;34m\u001b[0m\u001b[0;34m\u001b[0m\u001b[0m\n\u001b[1;32m    403\u001b[0m             )\n",
            "\u001b[0;31mValueError\u001b[0m: X has 30 features, but StandardScaler is expecting 31 features as input."
          ]
        }
      ]
    },
    {
      "cell_type": "code",
      "source": [
        "#model.save('good_enough_model.h5')  # creates a HDF5 file 'my_model.h5'"
      ],
      "metadata": {
        "id": "cCfG6gtIMqlf"
      },
      "execution_count": null,
      "outputs": []
    },
    {
      "cell_type": "code",
      "source": [
        "#myModel = load_model('my_model.h5') # myModel is ready for predicting right away!"
      ],
      "metadata": {
        "id": "mH_uYJhTMxlF"
      },
      "execution_count": null,
      "outputs": []
    },
    {
      "cell_type": "code",
      "source": [
        "# Geography: France\n",
        "# Credit Score: 600\n",
        "# Gender: Male\n",
        "# Age: 40 years old\n",
        "# Tenure: 3 years\n",
        "# Balance: $ 60000\n",
        "# Number of Products: 2\n",
        "# Does this customer have a credit card? Yes\n",
        "# Is this customer an Active Member: Yes\n",
        "# Estimated Salary: $ 50000\n",
        "# # "
      ],
      "metadata": {
        "id": "jJ8xqhg4Ssvc"
      },
      "execution_count": null,
      "outputs": []
    }
  ]
}