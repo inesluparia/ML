{
  "nbformat": 4,
  "nbformat_minor": 0,
  "metadata": {
    "colab": {
      "name": "StrokeClassification.ipynb",
      "provenance": [],
      "collapsed_sections": [],
      "authorship_tag": "ABX9TyOao9rM1iief5OlGpZS/4Ig",
      "include_colab_link": true
    },
    "kernelspec": {
      "name": "python3",
      "display_name": "Python 3"
    },
    "language_info": {
      "name": "python"
    }
  },
  "cells": [
    {
      "cell_type": "markdown",
      "metadata": {
        "id": "view-in-github",
        "colab_type": "text"
      },
      "source": [
        "<a href=\"https://colab.research.google.com/github/inesluparia/ML/blob/master/StrokeClassification.ipynb\" target=\"_parent\"><img src=\"https://colab.research.google.com/assets/colab-badge.svg\" alt=\"Open In Colab\"/></a>"
      ]
    },
    {
      "cell_type": "code",
      "execution_count": 11,
      "metadata": {
        "id": "8LlKxMLK-jwG"
      },
      "outputs": [],
      "source": [
        "import numpy as np\n",
        "import pandas as pd\n",
        "import seaborn as sns\n",
        "from sklearn.model_selection import train_test_split\n",
        "from sklearn.preprocessing import StandardScaler\n",
        "from tensorflow.keras.models import Sequential, load_model\n",
        "from tensorflow.keras.layers import Dense\n",
        "from tensorflow.keras.optimizers import Adam\n",
        "from sklearn.metrics import confusion_matrix, accuracy_score"
      ]
    },
    {
      "cell_type": "code",
      "source": [
        "!git clone https://github.com/inesluparia/ML.git"
      ],
      "metadata": {
        "colab": {
          "base_uri": "https://localhost:8080/"
        },
        "id": "1wrZ_5N9-w_K",
        "outputId": "bf3c5260-a438-4fba-859e-8496fb4d0ec6"
      },
      "execution_count": 12,
      "outputs": [
        {
          "output_type": "stream",
          "name": "stdout",
          "text": [
            "fatal: destination path 'ML' already exists and is not an empty directory.\n"
          ]
        }
      ]
    },
    {
      "cell_type": "code",
      "source": [
        "data = pd.read_csv(\"ML/WillYouHaveAstroke/healthcare-dataset-stroke-data.csv\")"
      ],
      "metadata": {
        "id": "fJpl8Nix_C_4"
      },
      "execution_count": 13,
      "outputs": []
    },
    {
      "cell_type": "code",
      "source": [
        "data.head()"
      ],
      "metadata": {
        "colab": {
          "base_uri": "https://localhost:8080/",
          "height": 305
        },
        "id": "NpbzCtDX_c8L",
        "outputId": "4d9efd21-9c26-4dfe-b5ab-878b5b44b21d"
      },
      "execution_count": 14,
      "outputs": [
        {
          "output_type": "execute_result",
          "data": {
            "text/html": [
              "\n",
              "  <div id=\"df-e061ffa0-f687-4aaa-bf78-166e480d187d\">\n",
              "    <div class=\"colab-df-container\">\n",
              "      <div>\n",
              "<style scoped>\n",
              "    .dataframe tbody tr th:only-of-type {\n",
              "        vertical-align: middle;\n",
              "    }\n",
              "\n",
              "    .dataframe tbody tr th {\n",
              "        vertical-align: top;\n",
              "    }\n",
              "\n",
              "    .dataframe thead th {\n",
              "        text-align: right;\n",
              "    }\n",
              "</style>\n",
              "<table border=\"1\" class=\"dataframe\">\n",
              "  <thead>\n",
              "    <tr style=\"text-align: right;\">\n",
              "      <th></th>\n",
              "      <th>id</th>\n",
              "      <th>gender</th>\n",
              "      <th>age</th>\n",
              "      <th>hypertension</th>\n",
              "      <th>heart_disease</th>\n",
              "      <th>ever_married</th>\n",
              "      <th>work_type</th>\n",
              "      <th>Residence_type</th>\n",
              "      <th>avg_glucose_level</th>\n",
              "      <th>bmi</th>\n",
              "      <th>smoking_status</th>\n",
              "      <th>stroke</th>\n",
              "    </tr>\n",
              "  </thead>\n",
              "  <tbody>\n",
              "    <tr>\n",
              "      <th>0</th>\n",
              "      <td>9046</td>\n",
              "      <td>Male</td>\n",
              "      <td>67.0</td>\n",
              "      <td>0</td>\n",
              "      <td>1</td>\n",
              "      <td>Yes</td>\n",
              "      <td>Private</td>\n",
              "      <td>Urban</td>\n",
              "      <td>228.69</td>\n",
              "      <td>36.6</td>\n",
              "      <td>formerly smoked</td>\n",
              "      <td>1</td>\n",
              "    </tr>\n",
              "    <tr>\n",
              "      <th>1</th>\n",
              "      <td>51676</td>\n",
              "      <td>Female</td>\n",
              "      <td>61.0</td>\n",
              "      <td>0</td>\n",
              "      <td>0</td>\n",
              "      <td>Yes</td>\n",
              "      <td>Self-employed</td>\n",
              "      <td>Rural</td>\n",
              "      <td>202.21</td>\n",
              "      <td>NaN</td>\n",
              "      <td>never smoked</td>\n",
              "      <td>1</td>\n",
              "    </tr>\n",
              "    <tr>\n",
              "      <th>2</th>\n",
              "      <td>31112</td>\n",
              "      <td>Male</td>\n",
              "      <td>80.0</td>\n",
              "      <td>0</td>\n",
              "      <td>1</td>\n",
              "      <td>Yes</td>\n",
              "      <td>Private</td>\n",
              "      <td>Rural</td>\n",
              "      <td>105.92</td>\n",
              "      <td>32.5</td>\n",
              "      <td>never smoked</td>\n",
              "      <td>1</td>\n",
              "    </tr>\n",
              "    <tr>\n",
              "      <th>3</th>\n",
              "      <td>60182</td>\n",
              "      <td>Female</td>\n",
              "      <td>49.0</td>\n",
              "      <td>0</td>\n",
              "      <td>0</td>\n",
              "      <td>Yes</td>\n",
              "      <td>Private</td>\n",
              "      <td>Urban</td>\n",
              "      <td>171.23</td>\n",
              "      <td>34.4</td>\n",
              "      <td>smokes</td>\n",
              "      <td>1</td>\n",
              "    </tr>\n",
              "    <tr>\n",
              "      <th>4</th>\n",
              "      <td>1665</td>\n",
              "      <td>Female</td>\n",
              "      <td>79.0</td>\n",
              "      <td>1</td>\n",
              "      <td>0</td>\n",
              "      <td>Yes</td>\n",
              "      <td>Self-employed</td>\n",
              "      <td>Rural</td>\n",
              "      <td>174.12</td>\n",
              "      <td>24.0</td>\n",
              "      <td>never smoked</td>\n",
              "      <td>1</td>\n",
              "    </tr>\n",
              "  </tbody>\n",
              "</table>\n",
              "</div>\n",
              "      <button class=\"colab-df-convert\" onclick=\"convertToInteractive('df-e061ffa0-f687-4aaa-bf78-166e480d187d')\"\n",
              "              title=\"Convert this dataframe to an interactive table.\"\n",
              "              style=\"display:none;\">\n",
              "        \n",
              "  <svg xmlns=\"http://www.w3.org/2000/svg\" height=\"24px\"viewBox=\"0 0 24 24\"\n",
              "       width=\"24px\">\n",
              "    <path d=\"M0 0h24v24H0V0z\" fill=\"none\"/>\n",
              "    <path d=\"M18.56 5.44l.94 2.06.94-2.06 2.06-.94-2.06-.94-.94-2.06-.94 2.06-2.06.94zm-11 1L8.5 8.5l.94-2.06 2.06-.94-2.06-.94L8.5 2.5l-.94 2.06-2.06.94zm10 10l.94 2.06.94-2.06 2.06-.94-2.06-.94-.94-2.06-.94 2.06-2.06.94z\"/><path d=\"M17.41 7.96l-1.37-1.37c-.4-.4-.92-.59-1.43-.59-.52 0-1.04.2-1.43.59L10.3 9.45l-7.72 7.72c-.78.78-.78 2.05 0 2.83L4 21.41c.39.39.9.59 1.41.59.51 0 1.02-.2 1.41-.59l7.78-7.78 2.81-2.81c.8-.78.8-2.07 0-2.86zM5.41 20L4 18.59l7.72-7.72 1.47 1.35L5.41 20z\"/>\n",
              "  </svg>\n",
              "      </button>\n",
              "      \n",
              "  <style>\n",
              "    .colab-df-container {\n",
              "      display:flex;\n",
              "      flex-wrap:wrap;\n",
              "      gap: 12px;\n",
              "    }\n",
              "\n",
              "    .colab-df-convert {\n",
              "      background-color: #E8F0FE;\n",
              "      border: none;\n",
              "      border-radius: 50%;\n",
              "      cursor: pointer;\n",
              "      display: none;\n",
              "      fill: #1967D2;\n",
              "      height: 32px;\n",
              "      padding: 0 0 0 0;\n",
              "      width: 32px;\n",
              "    }\n",
              "\n",
              "    .colab-df-convert:hover {\n",
              "      background-color: #E2EBFA;\n",
              "      box-shadow: 0px 1px 2px rgba(60, 64, 67, 0.3), 0px 1px 3px 1px rgba(60, 64, 67, 0.15);\n",
              "      fill: #174EA6;\n",
              "    }\n",
              "\n",
              "    [theme=dark] .colab-df-convert {\n",
              "      background-color: #3B4455;\n",
              "      fill: #D2E3FC;\n",
              "    }\n",
              "\n",
              "    [theme=dark] .colab-df-convert:hover {\n",
              "      background-color: #434B5C;\n",
              "      box-shadow: 0px 1px 3px 1px rgba(0, 0, 0, 0.15);\n",
              "      filter: drop-shadow(0px 1px 2px rgba(0, 0, 0, 0.3));\n",
              "      fill: #FFFFFF;\n",
              "    }\n",
              "  </style>\n",
              "\n",
              "      <script>\n",
              "        const buttonEl =\n",
              "          document.querySelector('#df-e061ffa0-f687-4aaa-bf78-166e480d187d button.colab-df-convert');\n",
              "        buttonEl.style.display =\n",
              "          google.colab.kernel.accessAllowed ? 'block' : 'none';\n",
              "\n",
              "        async function convertToInteractive(key) {\n",
              "          const element = document.querySelector('#df-e061ffa0-f687-4aaa-bf78-166e480d187d');\n",
              "          const dataTable =\n",
              "            await google.colab.kernel.invokeFunction('convertToInteractive',\n",
              "                                                     [key], {});\n",
              "          if (!dataTable) return;\n",
              "\n",
              "          const docLinkHtml = 'Like what you see? Visit the ' +\n",
              "            '<a target=\"_blank\" href=https://colab.research.google.com/notebooks/data_table.ipynb>data table notebook</a>'\n",
              "            + ' to learn more about interactive tables.';\n",
              "          element.innerHTML = '';\n",
              "          dataTable['output_type'] = 'display_data';\n",
              "          await google.colab.output.renderOutput(dataTable, element);\n",
              "          const docLink = document.createElement('div');\n",
              "          docLink.innerHTML = docLinkHtml;\n",
              "          element.appendChild(docLink);\n",
              "        }\n",
              "      </script>\n",
              "    </div>\n",
              "  </div>\n",
              "  "
            ],
            "text/plain": [
              "      id  gender   age  hypertension  heart_disease ever_married  \\\n",
              "0   9046    Male  67.0             0              1          Yes   \n",
              "1  51676  Female  61.0             0              0          Yes   \n",
              "2  31112    Male  80.0             0              1          Yes   \n",
              "3  60182  Female  49.0             0              0          Yes   \n",
              "4   1665  Female  79.0             1              0          Yes   \n",
              "\n",
              "       work_type Residence_type  avg_glucose_level   bmi   smoking_status  \\\n",
              "0        Private          Urban             228.69  36.6  formerly smoked   \n",
              "1  Self-employed          Rural             202.21   NaN     never smoked   \n",
              "2        Private          Rural             105.92  32.5     never smoked   \n",
              "3        Private          Urban             171.23  34.4           smokes   \n",
              "4  Self-employed          Rural             174.12  24.0     never smoked   \n",
              "\n",
              "   stroke  \n",
              "0       1  \n",
              "1       1  \n",
              "2       1  \n",
              "3       1  \n",
              "4       1  "
            ]
          },
          "metadata": {},
          "execution_count": 14
        }
      ]
    },
    {
      "cell_type": "code",
      "source": [
        "#data.shape\n",
        "#data.isnull().sum()"
      ],
      "metadata": {
        "id": "CgimBEpn_eTY"
      },
      "execution_count": null,
      "outputs": []
    },
    {
      "cell_type": "code",
      "source": [
        "data.dropna(inplace=True)"
      ],
      "metadata": {
        "id": "rAv0Sx5E_-Ja"
      },
      "execution_count": 16,
      "outputs": []
    },
    {
      "cell_type": "code",
      "source": [
        "data.columns"
      ],
      "metadata": {
        "colab": {
          "base_uri": "https://localhost:8080/"
        },
        "id": "ahuexhKKAKaN",
        "outputId": "124ff8d6-8565-4b24-eb9b-1231041d51b0"
      },
      "execution_count": 18,
      "outputs": [
        {
          "output_type": "execute_result",
          "data": {
            "text/plain": [
              "Index(['id', 'gender', 'age', 'hypertension', 'heart_disease', 'ever_married',\n",
              "       'work_type', 'Residence_type', 'avg_glucose_level', 'bmi',\n",
              "       'smoking_status', 'stroke'],\n",
              "      dtype='object')"
            ]
          },
          "metadata": {},
          "execution_count": 18
        }
      ]
    },
    {
      "cell_type": "code",
      "source": [
        "data = data.drop(['id'], axis=1)"
      ],
      "metadata": {
        "id": "6lZ7TtarBO4k"
      },
      "execution_count": 20,
      "outputs": []
    },
    {
      "cell_type": "code",
      "source": [
        "data.info()"
      ],
      "metadata": {
        "colab": {
          "base_uri": "https://localhost:8080/"
        },
        "id": "9SmtDsEtBzIv",
        "outputId": "6a4aa7ec-d96e-49ad-b7b9-c0555612b870"
      },
      "execution_count": 21,
      "outputs": [
        {
          "output_type": "stream",
          "name": "stdout",
          "text": [
            "<class 'pandas.core.frame.DataFrame'>\n",
            "Int64Index: 4909 entries, 0 to 5109\n",
            "Data columns (total 11 columns):\n",
            " #   Column             Non-Null Count  Dtype  \n",
            "---  ------             --------------  -----  \n",
            " 0   gender             4909 non-null   object \n",
            " 1   age                4909 non-null   float64\n",
            " 2   hypertension       4909 non-null   int64  \n",
            " 3   heart_disease      4909 non-null   int64  \n",
            " 4   ever_married       4909 non-null   object \n",
            " 5   work_type          4909 non-null   object \n",
            " 6   Residence_type     4909 non-null   object \n",
            " 7   avg_glucose_level  4909 non-null   float64\n",
            " 8   bmi                4909 non-null   float64\n",
            " 9   smoking_status     4909 non-null   object \n",
            " 10  stroke             4909 non-null   int64  \n",
            "dtypes: float64(3), int64(3), object(5)\n",
            "memory usage: 460.2+ KB\n"
          ]
        }
      ]
    },
    {
      "cell_type": "code",
      "source": [
        "X = data.iloc[:,:-1]\n",
        "y = data.iloc[:,-1]"
      ],
      "metadata": {
        "id": "QJtfajicB2ZE"
      },
      "execution_count": 22,
      "outputs": []
    },
    {
      "cell_type": "code",
      "source": [
        "X = pd.get_dummies(X)\n",
        "columnNames = list(X.columns)"
      ],
      "metadata": {
        "id": "gPZAS0ZNCTXN"
      },
      "execution_count": 23,
      "outputs": []
    },
    {
      "cell_type": "code",
      "source": [
        "#print(y[:5])"
      ],
      "metadata": {
        "id": "1Hk5IsLlClAL"
      },
      "execution_count": null,
      "outputs": []
    },
    {
      "cell_type": "code",
      "source": [
        "#X.shape"
      ],
      "metadata": {
        "colab": {
          "base_uri": "https://localhost:8080/"
        },
        "id": "ycSscgxPCprM",
        "outputId": "7539066f-c5e5-4442-c8c4-e463ac8a902b"
      },
      "execution_count": 26,
      "outputs": [
        {
          "output_type": "execute_result",
          "data": {
            "text/plain": [
              "(4909, 21)"
            ]
          },
          "metadata": {},
          "execution_count": 26
        }
      ]
    },
    {
      "cell_type": "code",
      "source": [
        "print(X.iloc[0:5,:])"
      ],
      "metadata": {
        "colab": {
          "base_uri": "https://localhost:8080/"
        },
        "id": "BQp-5JwxC3QW",
        "outputId": "eed21e80-32b4-4800-b2b7-0ee77021a2f3"
      },
      "execution_count": 27,
      "outputs": [
        {
          "output_type": "stream",
          "name": "stdout",
          "text": [
            "    age  hypertension  heart_disease  avg_glucose_level   bmi  gender_Female  \\\n",
            "0  67.0             0              1             228.69  36.6              0   \n",
            "2  80.0             0              1             105.92  32.5              0   \n",
            "3  49.0             0              0             171.23  34.4              1   \n",
            "4  79.0             1              0             174.12  24.0              1   \n",
            "5  81.0             0              0             186.21  29.0              0   \n",
            "\n",
            "   gender_Male  gender_Other  ever_married_No  ever_married_Yes  ...  \\\n",
            "0            1             0                0                 1  ...   \n",
            "2            1             0                0                 1  ...   \n",
            "3            0             0                0                 1  ...   \n",
            "4            0             0                0                 1  ...   \n",
            "5            1             0                0                 1  ...   \n",
            "\n",
            "   work_type_Never_worked  work_type_Private  work_type_Self-employed  \\\n",
            "0                       0                  1                        0   \n",
            "2                       0                  1                        0   \n",
            "3                       0                  1                        0   \n",
            "4                       0                  0                        1   \n",
            "5                       0                  1                        0   \n",
            "\n",
            "   work_type_children  Residence_type_Rural  Residence_type_Urban  \\\n",
            "0                   0                     0                     1   \n",
            "2                   0                     1                     0   \n",
            "3                   0                     0                     1   \n",
            "4                   0                     1                     0   \n",
            "5                   0                     0                     1   \n",
            "\n",
            "   smoking_status_Unknown  smoking_status_formerly smoked  \\\n",
            "0                       0                               1   \n",
            "2                       0                               0   \n",
            "3                       0                               0   \n",
            "4                       0                               0   \n",
            "5                       0                               1   \n",
            "\n",
            "   smoking_status_never smoked  smoking_status_smokes  \n",
            "0                            0                      0  \n",
            "2                            1                      0  \n",
            "3                            0                      1  \n",
            "4                            1                      0  \n",
            "5                            0                      0  \n",
            "\n",
            "[5 rows x 21 columns]\n"
          ]
        }
      ]
    },
    {
      "cell_type": "code",
      "source": [
        "X = X.values\n",
        "y = y.values"
      ],
      "metadata": {
        "id": "xR0koUjrDBXE"
      },
      "execution_count": 28,
      "outputs": []
    },
    {
      "cell_type": "code",
      "source": [
        "scaler = StandardScaler()\n",
        "X = scaler.fit_transform(X)"
      ],
      "metadata": {
        "id": "4f-c4nblDUeg"
      },
      "execution_count": 29,
      "outputs": []
    },
    {
      "cell_type": "code",
      "source": [
        "X_train, X_test, y_train, y_test = train_test_split(X,y,test_size = 0.25, random_state = 222 )"
      ],
      "metadata": {
        "id": "5LnKj_4VDcmp"
      },
      "execution_count": 30,
      "outputs": []
    },
    {
      "cell_type": "code",
      "source": [
        "model = Sequential()\n",
        "model.add(Dense(21, activation = 'relu'))\n",
        "model.add(Dense(21, activation = 'relu'))\n",
        "#not sure, try others also or just nothing!\n",
        "model.add(Dense(1, activation = 'sigmoid'))\n",
        "\n",
        "adam = Adam(learning_rate=0.001) \n",
        "model.compile(loss='binary_crossentropy', optimizer=adam, metrics=['accuracy'])"
      ],
      "metadata": {
        "id": "Roy0bTCuDiXg"
      },
      "execution_count": 31,
      "outputs": []
    },
    {
      "cell_type": "code",
      "source": [
        "model.fit(X_train, y_train, epochs=50, batch_size=50, verbose=1)"
      ],
      "metadata": {
        "colab": {
          "base_uri": "https://localhost:8080/"
        },
        "id": "EoDxeGGDEZ7N",
        "outputId": "72e3b66e-3b9d-4468-8bdb-18e598085ce9"
      },
      "execution_count": 32,
      "outputs": [
        {
          "output_type": "stream",
          "name": "stdout",
          "text": [
            "Epoch 1/50\n",
            "74/74 [==============================] - 1s 2ms/step - loss: 0.4428 - accuracy: 0.8416\n",
            "Epoch 2/50\n",
            "74/74 [==============================] - 0s 2ms/step - loss: 0.2053 - accuracy: 0.9535\n",
            "Epoch 3/50\n",
            "74/74 [==============================] - 0s 2ms/step - loss: 0.1766 - accuracy: 0.9535\n",
            "Epoch 4/50\n",
            "74/74 [==============================] - 0s 2ms/step - loss: 0.1657 - accuracy: 0.9535\n",
            "Epoch 5/50\n",
            "74/74 [==============================] - 0s 2ms/step - loss: 0.1594 - accuracy: 0.9535\n",
            "Epoch 6/50\n",
            "74/74 [==============================] - 0s 2ms/step - loss: 0.1552 - accuracy: 0.9535\n",
            "Epoch 7/50\n",
            "74/74 [==============================] - 0s 2ms/step - loss: 0.1520 - accuracy: 0.9535\n",
            "Epoch 8/50\n",
            "74/74 [==============================] - 0s 2ms/step - loss: 0.1497 - accuracy: 0.9535\n",
            "Epoch 9/50\n",
            "74/74 [==============================] - 0s 2ms/step - loss: 0.1481 - accuracy: 0.9535\n",
            "Epoch 10/50\n",
            "74/74 [==============================] - 0s 2ms/step - loss: 0.1468 - accuracy: 0.9535\n",
            "Epoch 11/50\n",
            "74/74 [==============================] - 0s 2ms/step - loss: 0.1459 - accuracy: 0.9535\n",
            "Epoch 12/50\n",
            "74/74 [==============================] - 0s 2ms/step - loss: 0.1443 - accuracy: 0.9535\n",
            "Epoch 13/50\n",
            "74/74 [==============================] - 0s 2ms/step - loss: 0.1436 - accuracy: 0.9535\n",
            "Epoch 14/50\n",
            "74/74 [==============================] - 0s 2ms/step - loss: 0.1428 - accuracy: 0.9535\n",
            "Epoch 15/50\n",
            "74/74 [==============================] - 0s 2ms/step - loss: 0.1417 - accuracy: 0.9538\n",
            "Epoch 16/50\n",
            "74/74 [==============================] - 0s 2ms/step - loss: 0.1414 - accuracy: 0.9535\n",
            "Epoch 17/50\n",
            "74/74 [==============================] - 0s 2ms/step - loss: 0.1402 - accuracy: 0.9535\n",
            "Epoch 18/50\n",
            "74/74 [==============================] - 0s 2ms/step - loss: 0.1396 - accuracy: 0.9535\n",
            "Epoch 19/50\n",
            "74/74 [==============================] - 0s 2ms/step - loss: 0.1384 - accuracy: 0.9538\n",
            "Epoch 20/50\n",
            "74/74 [==============================] - 0s 2ms/step - loss: 0.1383 - accuracy: 0.9538\n",
            "Epoch 21/50\n",
            "74/74 [==============================] - 0s 2ms/step - loss: 0.1380 - accuracy: 0.9535\n",
            "Epoch 22/50\n",
            "74/74 [==============================] - 0s 2ms/step - loss: 0.1369 - accuracy: 0.9538\n",
            "Epoch 23/50\n",
            "74/74 [==============================] - 0s 2ms/step - loss: 0.1367 - accuracy: 0.9538\n",
            "Epoch 24/50\n",
            "74/74 [==============================] - 0s 2ms/step - loss: 0.1360 - accuracy: 0.9538\n",
            "Epoch 25/50\n",
            "74/74 [==============================] - 0s 2ms/step - loss: 0.1356 - accuracy: 0.9538\n",
            "Epoch 26/50\n",
            "74/74 [==============================] - 0s 2ms/step - loss: 0.1359 - accuracy: 0.9538\n",
            "Epoch 27/50\n",
            "74/74 [==============================] - 0s 2ms/step - loss: 0.1342 - accuracy: 0.9541\n",
            "Epoch 28/50\n",
            "74/74 [==============================] - 0s 2ms/step - loss: 0.1339 - accuracy: 0.9535\n",
            "Epoch 29/50\n",
            "74/74 [==============================] - 0s 2ms/step - loss: 0.1332 - accuracy: 0.9541\n",
            "Epoch 30/50\n",
            "74/74 [==============================] - 0s 2ms/step - loss: 0.1327 - accuracy: 0.9549\n",
            "Epoch 31/50\n",
            "74/74 [==============================] - 0s 2ms/step - loss: 0.1320 - accuracy: 0.9541\n",
            "Epoch 32/50\n",
            "74/74 [==============================] - 0s 2ms/step - loss: 0.1317 - accuracy: 0.9546\n",
            "Epoch 33/50\n",
            "74/74 [==============================] - 0s 2ms/step - loss: 0.1311 - accuracy: 0.9557\n",
            "Epoch 34/50\n",
            "74/74 [==============================] - 0s 2ms/step - loss: 0.1315 - accuracy: 0.9546\n",
            "Epoch 35/50\n",
            "74/74 [==============================] - 0s 2ms/step - loss: 0.1299 - accuracy: 0.9549\n",
            "Epoch 36/50\n",
            "74/74 [==============================] - 0s 2ms/step - loss: 0.1291 - accuracy: 0.9549\n",
            "Epoch 37/50\n",
            "74/74 [==============================] - 0s 2ms/step - loss: 0.1292 - accuracy: 0.9554\n",
            "Epoch 38/50\n",
            "74/74 [==============================] - 0s 2ms/step - loss: 0.1284 - accuracy: 0.9557\n",
            "Epoch 39/50\n",
            "74/74 [==============================] - 0s 2ms/step - loss: 0.1280 - accuracy: 0.9563\n",
            "Epoch 40/50\n",
            "74/74 [==============================] - 0s 2ms/step - loss: 0.1270 - accuracy: 0.9560\n",
            "Epoch 41/50\n",
            "74/74 [==============================] - 0s 2ms/step - loss: 0.1264 - accuracy: 0.9571\n",
            "Epoch 42/50\n",
            "74/74 [==============================] - 0s 2ms/step - loss: 0.1263 - accuracy: 0.9568\n",
            "Epoch 43/50\n",
            "74/74 [==============================] - 0s 2ms/step - loss: 0.1254 - accuracy: 0.9571\n",
            "Epoch 44/50\n",
            "74/74 [==============================] - 0s 2ms/step - loss: 0.1249 - accuracy: 0.9568\n",
            "Epoch 45/50\n",
            "74/74 [==============================] - 0s 2ms/step - loss: 0.1249 - accuracy: 0.9573\n",
            "Epoch 46/50\n",
            "74/74 [==============================] - 0s 2ms/step - loss: 0.1245 - accuracy: 0.9576\n",
            "Epoch 47/50\n",
            "74/74 [==============================] - 0s 2ms/step - loss: 0.1237 - accuracy: 0.9584\n",
            "Epoch 48/50\n",
            "74/74 [==============================] - 0s 2ms/step - loss: 0.1236 - accuracy: 0.9573\n",
            "Epoch 49/50\n",
            "74/74 [==============================] - 0s 2ms/step - loss: 0.1230 - accuracy: 0.9563\n",
            "Epoch 50/50\n",
            "74/74 [==============================] - 0s 2ms/step - loss: 0.1217 - accuracy: 0.9584\n"
          ]
        },
        {
          "output_type": "execute_result",
          "data": {
            "text/plain": [
              "<keras.callbacks.History at 0x7efefddba550>"
            ]
          },
          "metadata": {},
          "execution_count": 32
        }
      ]
    },
    {
      "cell_type": "code",
      "source": [
        "loss = model.history.history['loss']\n",
        "sns.lineplot(x=range(len(loss)),y=loss)"
      ],
      "metadata": {
        "colab": {
          "base_uri": "https://localhost:8080/",
          "height": 282
        },
        "id": "Lb10Nd7eEqED",
        "outputId": "08b04f54-00be-4e46-f677-0d1f3a8116d0"
      },
      "execution_count": 34,
      "outputs": [
        {
          "output_type": "execute_result",
          "data": {
            "text/plain": [
              "<matplotlib.axes._subplots.AxesSubplot at 0x7efefc557fd0>"
            ]
          },
          "metadata": {},
          "execution_count": 34
        },
        {
          "output_type": "display_data",
          "data": {
            "image/png": "[encoded data removed]",
            "text/plain": [
              "<Figure size 432x288 with 1 Axes>"
            ]
          },
          "metadata": {
            "needs_background": "light"
          }
        }
      ]
    },
    {
      "cell_type": "code",
      "source": [
        "model.evaluate(X_test,y_test,verbose=1) "
      ],
      "metadata": {
        "colab": {
          "base_uri": "https://localhost:8080/"
        },
        "id": "kcm52BoKEzgL",
        "outputId": "9dec914f-7879-4c65-951c-a8b7ae09e949"
      },
      "execution_count": 35,
      "outputs": [
        {
          "output_type": "stream",
          "name": "stdout",
          "text": [
            "39/39 [==============================] - 0s 3ms/step - loss: 0.1291 - accuracy: 0.9691\n"
          ]
        },
        {
          "output_type": "execute_result",
          "data": {
            "text/plain": [
              "[0.12912552058696747, 0.9690553545951843]"
            ]
          },
          "metadata": {},
          "execution_count": 35
        }
      ]
    },
    {
      "cell_type": "code",
      "source": [
        "#Confusion matrix. Get details about each type of prediction\n",
        "y_pred = model.predict(X_test)\n",
        "y_pred = (y_pred > 0.5) # creates a new array with true/false based on the boolean test\n",
        "\n",
        "cm = confusion_matrix(y_test, y_pred)\n",
        "print(cm)\n",
        "\n",
        "# will return a 2D array like this (random numbers):\n",
        "#[[6432   326]\n",
        " #[ 481  1190]]\n",
        "\n",
        "# interpretation:\n",
        "# Top-left: 6432 correct predictions of 1. \n",
        "# Top-right: 326 incorrect predictions of 1, when the y_test was 0.\n",
        "# Bottom-left: 481 incorrect predictions of 0, when the y_test was 1.\n",
        "# Bottom-right: 1190 correct predictions of 0"
      ],
      "metadata": {
        "colab": {
          "base_uri": "https://localhost:8080/"
        },
        "id": "A88Ya8sYE0JU",
        "outputId": "8b844503-7272-48c0-8cbd-bac8d710038d"
      },
      "execution_count": 36,
      "outputs": [
        {
          "output_type": "stream",
          "name": "stdout",
          "text": [
            "[[1188    2]\n",
            " [  36    2]]\n"
          ]
        }
      ]
    },
    {
      "cell_type": "code",
      "source": [
        "print(columnNames)"
      ],
      "metadata": {
        "colab": {
          "base_uri": "https://localhost:8080/"
        },
        "id": "FMLubQ18FNma",
        "outputId": "8d59409c-93df-4364-fc59-78d9c03e5486"
      },
      "execution_count": 37,
      "outputs": [
        {
          "output_type": "stream",
          "name": "stdout",
          "text": [
            "['age', 'hypertension', 'heart_disease', 'avg_glucose_level', 'bmi', 'gender_Female', 'gender_Male', 'gender_Other', 'ever_married_No', 'ever_married_Yes', 'work_type_Govt_job', 'work_type_Never_worked', 'work_type_Private', 'work_type_Self-employed', 'work_type_children', 'Residence_type_Rural', 'Residence_type_Urban', 'smoking_status_Unknown', 'smoking_status_formerly smoked', 'smoking_status_never smoked', 'smoking_status_smokes']\n"
          ]
        }
      ]
    },
    {
      "cell_type": "code",
      "source": [
        "#Will I have a stroke?????\n",
        "new_value = [[37, 0, 0, 120, 40, 1, 0, 0, 0, 1, 0, 0, 1, 0, 0, 0, 1, 0, 1, 0, 0 ]] # enter new data in 2D array. Only numbers + dummy variables. \n",
        "\n",
        "new_value = scaler.transform(new_value) # Don't forget to scale!\n",
        "print(new_value)\n",
        "model.predict(new_value)"
      ],
      "metadata": {
        "colab": {
          "base_uri": "https://localhost:8080/"
        },
        "id": "Gt4TtCaMFPgM",
        "outputId": "82fcae38-a972-44e2-a43d-48072b34b71c"
      },
      "execution_count": 38,
      "outputs": [
        {
          "output_type": "stream",
          "name": "stdout",
          "text": [
            "[[-0.26007277 -0.31806673 -0.22820795  0.33081745  1.41428573  0.8333736\n",
            "  -0.83302272 -0.01427407 -0.72948428  0.72948428 -0.38370648 -0.067095\n",
            "   0.86391759 -0.43297779 -0.39790627 -0.98563987  0.98563987 -0.65792577\n",
            "   2.20567315 -0.77834613 -0.42030213]]\n"
          ]
        },
        {
          "output_type": "execute_result",
          "data": {
            "text/plain": [
              "array([[0.01310781]], dtype=float32)"
            ]
          },
          "metadata": {},
          "execution_count": 38
        }
      ]
    }
  ]
}