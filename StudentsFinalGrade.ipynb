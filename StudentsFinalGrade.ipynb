{
  "nbformat": 4,
  "nbformat_minor": 0,
  "metadata": {
    "colab": {
      "name": "StudentsFinalGrade.ipynb",
      "provenance": [],
      "collapsed_sections": [],
      "authorship_tag": "ABX9TyOZud2NrCjygywtQwZjr1Kj",
      "include_colab_link": true
    },
    "kernelspec": {
      "name": "python3",
      "display_name": "Python 3"
    },
    "language_info": {
      "name": "python"
    }
  },
  "cells": [
    {
      "cell_type": "markdown",
      "metadata": {
        "id": "view-in-github",
        "colab_type": "text"
      },
      "source": [
        "<a href=\"https://colab.research.google.com/github/inesluparia/ML/blob/master/StudentsFinalGrade.ipynb\" target=\"_parent\"><img src=\"https://colab.research.google.com/assets/colab-badge.svg\" alt=\"Open In Colab\"/></a>"
      ]
    },
    {
      "cell_type": "code",
      "execution_count": 812,
      "metadata": {
        "id": "jIgMP-UywHT6"
      },
      "outputs": [],
      "source": [
        "import numpy as np\n",
        "import pandas as pd\n",
        "import seaborn as sns\n",
        "from sklearn.model_selection import train_test_split\n",
        "from sklearn.preprocessing import StandardScaler\n",
        "from tensorflow.keras.models import Sequential, load_model\n",
        "from tensorflow.keras.layers import Dense\n",
        "from tensorflow.keras.optimizers import Adam\n",
        "from sklearn.metrics import confusion_matrix, accuracy_score\n",
        "from numpy import argmax"
      ]
    },
    {
      "cell_type": "code",
      "source": [
        "!git clone https://github.com/inesluparia/ML.git"
      ],
      "metadata": {
        "colab": {
          "base_uri": "https://localhost:8080/"
        },
        "id": "I3-rH8g3xBAO",
        "outputId": "33fa6d5c-8973-4e41-dcba-f807be35c7f0"
      },
      "execution_count": 813,
      "outputs": [
        {
          "output_type": "stream",
          "name": "stdout",
          "text": [
            "fatal: destination path 'ML' already exists and is not an empty directory.\n"
          ]
        }
      ]
    },
    {
      "cell_type": "code",
      "source": [
        "dataFrame = pd.read_csv('ML/StudentsFinalGrade/student_prediction.csv')"
      ],
      "metadata": {
        "id": "e5W0OkNFzwMy"
      },
      "execution_count": 814,
      "outputs": []
    },
    {
      "cell_type": "code",
      "source": [
        "dataFrame.head() #print top of the data"
      ],
      "metadata": {
        "colab": {
          "base_uri": "https://localhost:8080/",
          "height": 288
        },
        "id": "BTzDPuEF0Fpc",
        "outputId": "277c91e9-7857-4b38-d88f-1ee4e6b82196"
      },
      "execution_count": 815,
      "outputs": [
        {
          "output_type": "execute_result",
          "data": {
            "text/html": [
              "\n",
              "  <div id=\"df-b7c2d2d7-ff3c-4123-b123-e744af117edb\">\n",
              "    <div class=\"colab-df-container\">\n",
              "      <div>\n",
              "<style scoped>\n",
              "    .dataframe tbody tr th:only-of-type {\n",
              "        vertical-align: middle;\n",
              "    }\n",
              "\n",
              "    .dataframe tbody tr th {\n",
              "        vertical-align: top;\n",
              "    }\n",
              "\n",
              "    .dataframe thead th {\n",
              "        text-align: right;\n",
              "    }\n",
              "</style>\n",
              "<table border=\"1\" class=\"dataframe\">\n",
              "  <thead>\n",
              "    <tr style=\"text-align: right;\">\n",
              "      <th></th>\n",
              "      <th>STUDENTID</th>\n",
              "      <th>AGE</th>\n",
              "      <th>GENDER</th>\n",
              "      <th>HS_TYPE</th>\n",
              "      <th>SCHOLARSHIP</th>\n",
              "      <th>WORK</th>\n",
              "      <th>ACTIVITY</th>\n",
              "      <th>PARTNER</th>\n",
              "      <th>SALARY</th>\n",
              "      <th>TRANSPORT</th>\n",
              "      <th>LIVING</th>\n",
              "      <th>MOTHER_EDU</th>\n",
              "      <th>FATHER_EDU</th>\n",
              "      <th>#_SIBLINGS</th>\n",
              "      <th>KIDS</th>\n",
              "      <th>MOTHER_JOB</th>\n",
              "      <th>FATHER_JOB</th>\n",
              "      <th>STUDY_HRS</th>\n",
              "      <th>READ_FREQ</th>\n",
              "      <th>READ_FREQ_SCI</th>\n",
              "      <th>ATTEND_DEPT</th>\n",
              "      <th>IMPACT</th>\n",
              "      <th>ATTEND</th>\n",
              "      <th>PREP_STUDY</th>\n",
              "      <th>PREP_EXAM</th>\n",
              "      <th>NOTES</th>\n",
              "      <th>LISTENS</th>\n",
              "      <th>LIKES_DISCUSS</th>\n",
              "      <th>CLASSROOM</th>\n",
              "      <th>CUML_GPA</th>\n",
              "      <th>EXP_GPA</th>\n",
              "      <th>COURSE ID</th>\n",
              "      <th>GRADE</th>\n",
              "    </tr>\n",
              "  </thead>\n",
              "  <tbody>\n",
              "    <tr>\n",
              "      <th>0</th>\n",
              "      <td>STUDENT1</td>\n",
              "      <td>2</td>\n",
              "      <td>2</td>\n",
              "      <td>3</td>\n",
              "      <td>3</td>\n",
              "      <td>1</td>\n",
              "      <td>2</td>\n",
              "      <td>2</td>\n",
              "      <td>1</td>\n",
              "      <td>1</td>\n",
              "      <td>1</td>\n",
              "      <td>1</td>\n",
              "      <td>2</td>\n",
              "      <td>3</td>\n",
              "      <td>1</td>\n",
              "      <td>2</td>\n",
              "      <td>5</td>\n",
              "      <td>3</td>\n",
              "      <td>2</td>\n",
              "      <td>2</td>\n",
              "      <td>1</td>\n",
              "      <td>1</td>\n",
              "      <td>1</td>\n",
              "      <td>1</td>\n",
              "      <td>1</td>\n",
              "      <td>3</td>\n",
              "      <td>2</td>\n",
              "      <td>1</td>\n",
              "      <td>2</td>\n",
              "      <td>1</td>\n",
              "      <td>1</td>\n",
              "      <td>1</td>\n",
              "      <td>1</td>\n",
              "    </tr>\n",
              "    <tr>\n",
              "      <th>1</th>\n",
              "      <td>STUDENT2</td>\n",
              "      <td>2</td>\n",
              "      <td>2</td>\n",
              "      <td>3</td>\n",
              "      <td>3</td>\n",
              "      <td>1</td>\n",
              "      <td>2</td>\n",
              "      <td>2</td>\n",
              "      <td>1</td>\n",
              "      <td>1</td>\n",
              "      <td>1</td>\n",
              "      <td>2</td>\n",
              "      <td>3</td>\n",
              "      <td>2</td>\n",
              "      <td>1</td>\n",
              "      <td>2</td>\n",
              "      <td>1</td>\n",
              "      <td>2</td>\n",
              "      <td>2</td>\n",
              "      <td>2</td>\n",
              "      <td>1</td>\n",
              "      <td>1</td>\n",
              "      <td>1</td>\n",
              "      <td>1</td>\n",
              "      <td>1</td>\n",
              "      <td>3</td>\n",
              "      <td>2</td>\n",
              "      <td>3</td>\n",
              "      <td>2</td>\n",
              "      <td>2</td>\n",
              "      <td>3</td>\n",
              "      <td>1</td>\n",
              "      <td>1</td>\n",
              "    </tr>\n",
              "    <tr>\n",
              "      <th>2</th>\n",
              "      <td>STUDENT3</td>\n",
              "      <td>2</td>\n",
              "      <td>2</td>\n",
              "      <td>2</td>\n",
              "      <td>3</td>\n",
              "      <td>2</td>\n",
              "      <td>2</td>\n",
              "      <td>2</td>\n",
              "      <td>2</td>\n",
              "      <td>4</td>\n",
              "      <td>2</td>\n",
              "      <td>2</td>\n",
              "      <td>2</td>\n",
              "      <td>2</td>\n",
              "      <td>1</td>\n",
              "      <td>2</td>\n",
              "      <td>1</td>\n",
              "      <td>2</td>\n",
              "      <td>1</td>\n",
              "      <td>2</td>\n",
              "      <td>1</td>\n",
              "      <td>1</td>\n",
              "      <td>1</td>\n",
              "      <td>1</td>\n",
              "      <td>1</td>\n",
              "      <td>2</td>\n",
              "      <td>2</td>\n",
              "      <td>1</td>\n",
              "      <td>1</td>\n",
              "      <td>2</td>\n",
              "      <td>2</td>\n",
              "      <td>1</td>\n",
              "      <td>1</td>\n",
              "    </tr>\n",
              "    <tr>\n",
              "      <th>3</th>\n",
              "      <td>STUDENT4</td>\n",
              "      <td>1</td>\n",
              "      <td>1</td>\n",
              "      <td>1</td>\n",
              "      <td>3</td>\n",
              "      <td>1</td>\n",
              "      <td>2</td>\n",
              "      <td>1</td>\n",
              "      <td>2</td>\n",
              "      <td>1</td>\n",
              "      <td>2</td>\n",
              "      <td>1</td>\n",
              "      <td>2</td>\n",
              "      <td>5</td>\n",
              "      <td>1</td>\n",
              "      <td>2</td>\n",
              "      <td>1</td>\n",
              "      <td>3</td>\n",
              "      <td>1</td>\n",
              "      <td>2</td>\n",
              "      <td>1</td>\n",
              "      <td>1</td>\n",
              "      <td>1</td>\n",
              "      <td>1</td>\n",
              "      <td>2</td>\n",
              "      <td>3</td>\n",
              "      <td>2</td>\n",
              "      <td>2</td>\n",
              "      <td>1</td>\n",
              "      <td>3</td>\n",
              "      <td>2</td>\n",
              "      <td>1</td>\n",
              "      <td>1</td>\n",
              "    </tr>\n",
              "    <tr>\n",
              "      <th>4</th>\n",
              "      <td>STUDENT5</td>\n",
              "      <td>2</td>\n",
              "      <td>2</td>\n",
              "      <td>1</td>\n",
              "      <td>3</td>\n",
              "      <td>2</td>\n",
              "      <td>2</td>\n",
              "      <td>1</td>\n",
              "      <td>3</td>\n",
              "      <td>1</td>\n",
              "      <td>4</td>\n",
              "      <td>3</td>\n",
              "      <td>3</td>\n",
              "      <td>2</td>\n",
              "      <td>1</td>\n",
              "      <td>2</td>\n",
              "      <td>4</td>\n",
              "      <td>2</td>\n",
              "      <td>1</td>\n",
              "      <td>1</td>\n",
              "      <td>1</td>\n",
              "      <td>1</td>\n",
              "      <td>1</td>\n",
              "      <td>2</td>\n",
              "      <td>1</td>\n",
              "      <td>2</td>\n",
              "      <td>2</td>\n",
              "      <td>2</td>\n",
              "      <td>1</td>\n",
              "      <td>2</td>\n",
              "      <td>2</td>\n",
              "      <td>1</td>\n",
              "      <td>1</td>\n",
              "    </tr>\n",
              "  </tbody>\n",
              "</table>\n",
              "</div>\n",
              "      <button class=\"colab-df-convert\" onclick=\"convertToInteractive('df-b7c2d2d7-ff3c-4123-b123-e744af117edb')\"\n",
              "              title=\"Convert this dataframe to an interactive table.\"\n",
              "              style=\"display:none;\">\n",
              "        \n",
              "  <svg xmlns=\"http://www.w3.org/2000/svg\" height=\"24px\"viewBox=\"0 0 24 24\"\n",
              "       width=\"24px\">\n",
              "    <path d=\"M0 0h24v24H0V0z\" fill=\"none\"/>\n",
              "    <path d=\"M18.56 5.44l.94 2.06.94-2.06 2.06-.94-2.06-.94-.94-2.06-.94 2.06-2.06.94zm-11 1L8.5 8.5l.94-2.06 2.06-.94-2.06-.94L8.5 2.5l-.94 2.06-2.06.94zm10 10l.94 2.06.94-2.06 2.06-.94-2.06-.94-.94-2.06-.94 2.06-2.06.94z\"/><path d=\"M17.41 7.96l-1.37-1.37c-.4-.4-.92-.59-1.43-.59-.52 0-1.04.2-1.43.59L10.3 9.45l-7.72 7.72c-.78.78-.78 2.05 0 2.83L4 21.41c.39.39.9.59 1.41.59.51 0 1.02-.2 1.41-.59l7.78-7.78 2.81-2.81c.8-.78.8-2.07 0-2.86zM5.41 20L4 18.59l7.72-7.72 1.47 1.35L5.41 20z\"/>\n",
              "  </svg>\n",
              "      </button>\n",
              "      \n",
              "  <style>\n",
              "    .colab-df-container {\n",
              "      display:flex;\n",
              "      flex-wrap:wrap;\n",
              "      gap: 12px;\n",
              "    }\n",
              "\n",
              "    .colab-df-convert {\n",
              "      background-color: #E8F0FE;\n",
              "      border: none;\n",
              "      border-radius: 50%;\n",
              "      cursor: pointer;\n",
              "      display: none;\n",
              "      fill: #1967D2;\n",
              "      height: 32px;\n",
              "      padding: 0 0 0 0;\n",
              "      width: 32px;\n",
              "    }\n",
              "\n",
              "    .colab-df-convert:hover {\n",
              "      background-color: #E2EBFA;\n",
              "      box-shadow: 0px 1px 2px rgba(60, 64, 67, 0.3), 0px 1px 3px 1px rgba(60, 64, 67, 0.15);\n",
              "      fill: #174EA6;\n",
              "    }\n",
              "\n",
              "    [theme=dark] .colab-df-convert {\n",
              "      background-color: #3B4455;\n",
              "      fill: #D2E3FC;\n",
              "    }\n",
              "\n",
              "    [theme=dark] .colab-df-convert:hover {\n",
              "      background-color: #434B5C;\n",
              "      box-shadow: 0px 1px 3px 1px rgba(0, 0, 0, 0.15);\n",
              "      filter: drop-shadow(0px 1px 2px rgba(0, 0, 0, 0.3));\n",
              "      fill: #FFFFFF;\n",
              "    }\n",
              "  </style>\n",
              "\n",
              "      <script>\n",
              "        const buttonEl =\n",
              "          document.querySelector('#df-b7c2d2d7-ff3c-4123-b123-e744af117edb button.colab-df-convert');\n",
              "        buttonEl.style.display =\n",
              "          google.colab.kernel.accessAllowed ? 'block' : 'none';\n",
              "\n",
              "        async function convertToInteractive(key) {\n",
              "          const element = document.querySelector('#df-b7c2d2d7-ff3c-4123-b123-e744af117edb');\n",
              "          const dataTable =\n",
              "            await google.colab.kernel.invokeFunction('convertToInteractive',\n",
              "                                                     [key], {});\n",
              "          if (!dataTable) return;\n",
              "\n",
              "          const docLinkHtml = 'Like what you see? Visit the ' +\n",
              "            '<a target=\"_blank\" href=https://colab.research.google.com/notebooks/data_table.ipynb>data table notebook</a>'\n",
              "            + ' to learn more about interactive tables.';\n",
              "          element.innerHTML = '';\n",
              "          dataTable['output_type'] = 'display_data';\n",
              "          await google.colab.output.renderOutput(dataTable, element);\n",
              "          const docLink = document.createElement('div');\n",
              "          docLink.innerHTML = docLinkHtml;\n",
              "          element.appendChild(docLink);\n",
              "        }\n",
              "      </script>\n",
              "    </div>\n",
              "  </div>\n",
              "  "
            ],
            "text/plain": [
              "  STUDENTID  AGE  GENDER  HS_TYPE  SCHOLARSHIP  WORK  ACTIVITY  PARTNER  \\\n",
              "0  STUDENT1    2       2        3            3     1         2        2   \n",
              "1  STUDENT2    2       2        3            3     1         2        2   \n",
              "2  STUDENT3    2       2        2            3     2         2        2   \n",
              "3  STUDENT4    1       1        1            3     1         2        1   \n",
              "4  STUDENT5    2       2        1            3     2         2        1   \n",
              "\n",
              "   SALARY  TRANSPORT  LIVING  MOTHER_EDU  FATHER_EDU  #_SIBLINGS  KIDS  \\\n",
              "0       1          1       1           1           2           3     1   \n",
              "1       1          1       1           2           3           2     1   \n",
              "2       2          4       2           2           2           2     1   \n",
              "3       2          1       2           1           2           5     1   \n",
              "4       3          1       4           3           3           2     1   \n",
              "\n",
              "   MOTHER_JOB  FATHER_JOB  STUDY_HRS  READ_FREQ  READ_FREQ_SCI  ATTEND_DEPT  \\\n",
              "0           2           5          3          2              2            1   \n",
              "1           2           1          2          2              2            1   \n",
              "2           2           1          2          1              2            1   \n",
              "3           2           1          3          1              2            1   \n",
              "4           2           4          2          1              1            1   \n",
              "\n",
              "   IMPACT  ATTEND  PREP_STUDY  PREP_EXAM  NOTES  LISTENS  LIKES_DISCUSS  \\\n",
              "0       1       1           1          1      3        2              1   \n",
              "1       1       1           1          1      3        2              3   \n",
              "2       1       1           1          1      2        2              1   \n",
              "3       1       1           1          2      3        2              2   \n",
              "4       1       1           2          1      2        2              2   \n",
              "\n",
              "   CLASSROOM  CUML_GPA  EXP_GPA  COURSE ID  GRADE  \n",
              "0          2         1        1          1      1  \n",
              "1          2         2        3          1      1  \n",
              "2          1         2        2          1      1  \n",
              "3          1         3        2          1      1  \n",
              "4          1         2        2          1      1  "
            ]
          },
          "metadata": {},
          "execution_count": 815
        }
      ]
    },
    {
      "cell_type": "code",
      "source": [
        "dataFrame.shape"
      ],
      "metadata": {
        "colab": {
          "base_uri": "https://localhost:8080/"
        },
        "id": "9bSubHBnqSJb",
        "outputId": "778f6f77-6b3c-41ab-f76f-6d5f5ab35082"
      },
      "execution_count": 816,
      "outputs": [
        {
          "output_type": "execute_result",
          "data": {
            "text/plain": [
              "(145, 33)"
            ]
          },
          "metadata": {},
          "execution_count": 816
        }
      ]
    },
    {
      "cell_type": "code",
      "source": [
        "dataFrame.columns"
      ],
      "metadata": {
        "colab": {
          "base_uri": "https://localhost:8080/"
        },
        "id": "W-u-UssyqZCV",
        "outputId": "0cb69ffa-4377-46df-86ad-da05217110c4"
      },
      "execution_count": 817,
      "outputs": [
        {
          "output_type": "execute_result",
          "data": {
            "text/plain": [
              "Index(['STUDENTID', 'AGE', 'GENDER', 'HS_TYPE', 'SCHOLARSHIP', 'WORK',\n",
              "       'ACTIVITY', 'PARTNER', 'SALARY', 'TRANSPORT', 'LIVING', 'MOTHER_EDU',\n",
              "       'FATHER_EDU', '#_SIBLINGS', 'KIDS', 'MOTHER_JOB', 'FATHER_JOB',\n",
              "       'STUDY_HRS', 'READ_FREQ', 'READ_FREQ_SCI', 'ATTEND_DEPT', 'IMPACT',\n",
              "       'ATTEND', 'PREP_STUDY', 'PREP_EXAM', 'NOTES', 'LISTENS',\n",
              "       'LIKES_DISCUSS', 'CLASSROOM', 'CUML_GPA', 'EXP_GPA', 'COURSE ID',\n",
              "       'GRADE'],\n",
              "      dtype='object')"
            ]
          },
          "metadata": {},
          "execution_count": 817
        }
      ]
    },
    {
      "cell_type": "code",
      "source": [
        "dataFrame = dataFrame.drop(['STUDENTID','CLASSROOM', 'IMPACT', 'COURSE ID'], axis=1)\n",
        "dataFrame.columns"
      ],
      "metadata": {
        "id": "SV31C_Orqd4z",
        "colab": {
          "base_uri": "https://localhost:8080/"
        },
        "outputId": "fd0b0b62-0509-485d-83ae-d12961e45e42"
      },
      "execution_count": 818,
      "outputs": [
        {
          "output_type": "execute_result",
          "data": {
            "text/plain": [
              "Index(['AGE', 'GENDER', 'HS_TYPE', 'SCHOLARSHIP', 'WORK', 'ACTIVITY',\n",
              "       'PARTNER', 'SALARY', 'TRANSPORT', 'LIVING', 'MOTHER_EDU', 'FATHER_EDU',\n",
              "       '#_SIBLINGS', 'KIDS', 'MOTHER_JOB', 'FATHER_JOB', 'STUDY_HRS',\n",
              "       'READ_FREQ', 'READ_FREQ_SCI', 'ATTEND_DEPT', 'ATTEND', 'PREP_STUDY',\n",
              "       'PREP_EXAM', 'NOTES', 'LISTENS', 'LIKES_DISCUSS', 'CUML_GPA', 'EXP_GPA',\n",
              "       'GRADE'],\n",
              "      dtype='object')"
            ]
          },
          "metadata": {},
          "execution_count": 818
        }
      ]
    },
    {
      "cell_type": "code",
      "source": [
        "dataFrame.isnull().sum()"
      ],
      "metadata": {
        "colab": {
          "base_uri": "https://localhost:8080/"
        },
        "id": "N7yQwtgMlzyB",
        "outputId": "06ce0a68-7db7-4fbf-dfc5-b4fa9339e950"
      },
      "execution_count": 819,
      "outputs": [
        {
          "output_type": "execute_result",
          "data": {
            "text/plain": [
              "AGE              0\n",
              "GENDER           0\n",
              "HS_TYPE          0\n",
              "SCHOLARSHIP      0\n",
              "WORK             0\n",
              "ACTIVITY         0\n",
              "PARTNER          0\n",
              "SALARY           0\n",
              "TRANSPORT        0\n",
              "LIVING           0\n",
              "MOTHER_EDU       0\n",
              "FATHER_EDU       0\n",
              "#_SIBLINGS       0\n",
              "KIDS             0\n",
              "MOTHER_JOB       0\n",
              "FATHER_JOB       0\n",
              "STUDY_HRS        0\n",
              "READ_FREQ        0\n",
              "READ_FREQ_SCI    0\n",
              "ATTEND_DEPT      0\n",
              "ATTEND           0\n",
              "PREP_STUDY       0\n",
              "PREP_EXAM        0\n",
              "NOTES            0\n",
              "LISTENS          0\n",
              "LIKES_DISCUSS    0\n",
              "CUML_GPA         0\n",
              "EXP_GPA          0\n",
              "GRADE            0\n",
              "dtype: int64"
            ]
          },
          "metadata": {},
          "execution_count": 819
        }
      ]
    },
    {
      "cell_type": "code",
      "source": [
        "dataFrame.dropna(inplace=True)"
      ],
      "metadata": {
        "id": "fr1CxeL8mHER"
      },
      "execution_count": 820,
      "outputs": []
    },
    {
      "cell_type": "code",
      "source": [
        "dataFrame = dataFrame.applymap(str)\n",
        "print(dataFrame.dtypes)\n"
      ],
      "metadata": {
        "colab": {
          "base_uri": "https://localhost:8080/"
        },
        "id": "UurzYaSwy9sd",
        "outputId": "034d479d-3278-4d96-ae83-de9db03b2504"
      },
      "execution_count": 821,
      "outputs": [
        {
          "output_type": "stream",
          "name": "stdout",
          "text": [
            "AGE              object\n",
            "GENDER           object\n",
            "HS_TYPE          object\n",
            "SCHOLARSHIP      object\n",
            "WORK             object\n",
            "ACTIVITY         object\n",
            "PARTNER          object\n",
            "SALARY           object\n",
            "TRANSPORT        object\n",
            "LIVING           object\n",
            "MOTHER_EDU       object\n",
            "FATHER_EDU       object\n",
            "#_SIBLINGS       object\n",
            "KIDS             object\n",
            "MOTHER_JOB       object\n",
            "FATHER_JOB       object\n",
            "STUDY_HRS        object\n",
            "READ_FREQ        object\n",
            "READ_FREQ_SCI    object\n",
            "ATTEND_DEPT      object\n",
            "ATTEND           object\n",
            "PREP_STUDY       object\n",
            "PREP_EXAM        object\n",
            "NOTES            object\n",
            "LISTENS          object\n",
            "LIKES_DISCUSS    object\n",
            "CUML_GPA         object\n",
            "EXP_GPA          object\n",
            "GRADE            object\n",
            "dtype: object\n"
          ]
        }
      ]
    },
    {
      "cell_type": "code",
      "source": [
        "pd.set_option('display.max_columns', None) # print all columns ??? print where?"
      ],
      "metadata": {
        "id": "-aPxr0iU0mfS"
      },
      "execution_count": 822,
      "outputs": []
    },
    {
      "cell_type": "code",
      "source": [
        "dataFrame.info()"
      ],
      "metadata": {
        "colab": {
          "base_uri": "https://localhost:8080/"
        },
        "id": "EkJJOSnfujzP",
        "outputId": "84406384-cb22-4ed1-90d5-3f749fe70403"
      },
      "execution_count": 823,
      "outputs": [
        {
          "output_type": "stream",
          "name": "stdout",
          "text": [
            "<class 'pandas.core.frame.DataFrame'>\n",
            "Int64Index: 145 entries, 0 to 144\n",
            "Data columns (total 29 columns):\n",
            " #   Column         Non-Null Count  Dtype \n",
            "---  ------         --------------  ----- \n",
            " 0   AGE            145 non-null    object\n",
            " 1   GENDER         145 non-null    object\n",
            " 2   HS_TYPE        145 non-null    object\n",
            " 3   SCHOLARSHIP    145 non-null    object\n",
            " 4   WORK           145 non-null    object\n",
            " 5   ACTIVITY       145 non-null    object\n",
            " 6   PARTNER        145 non-null    object\n",
            " 7   SALARY         145 non-null    object\n",
            " 8   TRANSPORT      145 non-null    object\n",
            " 9   LIVING         145 non-null    object\n",
            " 10  MOTHER_EDU     145 non-null    object\n",
            " 11  FATHER_EDU     145 non-null    object\n",
            " 12  #_SIBLINGS     145 non-null    object\n",
            " 13  KIDS           145 non-null    object\n",
            " 14  MOTHER_JOB     145 non-null    object\n",
            " 15  FATHER_JOB     145 non-null    object\n",
            " 16  STUDY_HRS      145 non-null    object\n",
            " 17  READ_FREQ      145 non-null    object\n",
            " 18  READ_FREQ_SCI  145 non-null    object\n",
            " 19  ATTEND_DEPT    145 non-null    object\n",
            " 20  ATTEND         145 non-null    object\n",
            " 21  PREP_STUDY     145 non-null    object\n",
            " 22  PREP_EXAM      145 non-null    object\n",
            " 23  NOTES          145 non-null    object\n",
            " 24  LISTENS        145 non-null    object\n",
            " 25  LIKES_DISCUSS  145 non-null    object\n",
            " 26  CUML_GPA       145 non-null    object\n",
            " 27  EXP_GPA        145 non-null    object\n",
            " 28  GRADE          145 non-null    object\n",
            "dtypes: object(29)\n",
            "memory usage: 34.0+ KB\n"
          ]
        }
      ]
    },
    {
      "cell_type": "code",
      "source": [
        "X = dataFrame.iloc[:, 0:-1] # select relevant rows and columns to X\n",
        "y = dataFrame.iloc[:,-1] # select column(s) for y (here only the last column)"
      ],
      "metadata": {
        "id": "9n7a_veqnLeM"
      },
      "execution_count": 824,
      "outputs": []
    },
    {
      "cell_type": "code",
      "source": [
        "X = pd.get_dummies(X)\n",
        "columnNames = list(X.columns)"
      ],
      "metadata": {
        "id": "3l0-_iUpnGi6"
      },
      "execution_count": 825,
      "outputs": []
    },
    {
      "cell_type": "code",
      "source": [
        "print(y[0:5])"
      ],
      "metadata": {
        "id": "fW8K6xRWArB2",
        "colab": {
          "base_uri": "https://localhost:8080/"
        },
        "outputId": "4b25b13e-841d-4dba-c358-3a58a6e8951a"
      },
      "execution_count": 826,
      "outputs": [
        {
          "output_type": "stream",
          "name": "stdout",
          "text": [
            "0    1\n",
            "1    1\n",
            "2    1\n",
            "3    1\n",
            "4    1\n",
            "Name: GRADE, dtype: object\n"
          ]
        }
      ]
    },
    {
      "cell_type": "code",
      "source": [
        "print(X.shape)"
      ],
      "metadata": {
        "colab": {
          "base_uri": "https://localhost:8080/"
        },
        "id": "KRORojWd0kVq",
        "outputId": "e61fd284-6c55-43a1-d2ac-33194ccc3a7c"
      },
      "execution_count": 827,
      "outputs": [
        {
          "output_type": "stream",
          "name": "stdout",
          "text": [
            "(145, 101)\n"
          ]
        }
      ]
    },
    {
      "cell_type": "code",
      "source": [
        "print(X.iloc[0:5,:])"
      ],
      "metadata": {
        "colab": {
          "base_uri": "https://localhost:8080/"
        },
        "id": "FU3StW-h0pxg",
        "outputId": "cfb4ec71-d108-4e16-f8f6-a8c5111f2b6e"
      },
      "execution_count": 828,
      "outputs": [
        {
          "output_type": "stream",
          "name": "stdout",
          "text": [
            "   AGE_1  AGE_2  AGE_3  GENDER_1  GENDER_2  HS_TYPE_1  HS_TYPE_2  HS_TYPE_3  \\\n",
            "0      0      1      0         0         1          0          0          1   \n",
            "1      0      1      0         0         1          0          0          1   \n",
            "2      0      1      0         0         1          0          1          0   \n",
            "3      1      0      0         1         0          1          0          0   \n",
            "4      0      1      0         0         1          1          0          0   \n",
            "\n",
            "   SCHOLARSHIP_1  SCHOLARSHIP_2  SCHOLARSHIP_3  SCHOLARSHIP_4  SCHOLARSHIP_5  \\\n",
            "0              0              0              1              0              0   \n",
            "1              0              0              1              0              0   \n",
            "2              0              0              1              0              0   \n",
            "3              0              0              1              0              0   \n",
            "4              0              0              1              0              0   \n",
            "\n",
            "   WORK_1  WORK_2  ACTIVITY_1  ACTIVITY_2  PARTNER_1  PARTNER_2  SALARY_1  \\\n",
            "0       1       0           0           1          0          1         1   \n",
            "1       1       0           0           1          0          1         1   \n",
            "2       0       1           0           1          0          1         0   \n",
            "3       1       0           0           1          1          0         0   \n",
            "4       0       1           0           1          1          0         0   \n",
            "\n",
            "   SALARY_2  SALARY_3  SALARY_4  SALARY_5  TRANSPORT_1  TRANSPORT_2  \\\n",
            "0         0         0         0         0            1            0   \n",
            "1         0         0         0         0            1            0   \n",
            "2         1         0         0         0            0            0   \n",
            "3         1         0         0         0            1            0   \n",
            "4         0         1         0         0            1            0   \n",
            "\n",
            "   TRANSPORT_3  TRANSPORT_4  LIVING_1  LIVING_2  LIVING_3  LIVING_4  \\\n",
            "0            0            0         1         0         0         0   \n",
            "1            0            0         1         0         0         0   \n",
            "2            0            1         0         1         0         0   \n",
            "3            0            0         0         1         0         0   \n",
            "4            0            0         0         0         0         1   \n",
            "\n",
            "   MOTHER_EDU_1  MOTHER_EDU_2  MOTHER_EDU_3  MOTHER_EDU_4  MOTHER_EDU_5  \\\n",
            "0             1             0             0             0             0   \n",
            "1             0             1             0             0             0   \n",
            "2             0             1             0             0             0   \n",
            "3             1             0             0             0             0   \n",
            "4             0             0             1             0             0   \n",
            "\n",
            "   MOTHER_EDU_6  FATHER_EDU_1  FATHER_EDU_2  FATHER_EDU_3  FATHER_EDU_4  \\\n",
            "0             0             0             1             0             0   \n",
            "1             0             0             0             1             0   \n",
            "2             0             0             1             0             0   \n",
            "3             0             0             1             0             0   \n",
            "4             0             0             0             1             0   \n",
            "\n",
            "   FATHER_EDU_5  FATHER_EDU_6  #_SIBLINGS_1  #_SIBLINGS_2  #_SIBLINGS_3  \\\n",
            "0             0             0             0             0             1   \n",
            "1             0             0             0             1             0   \n",
            "2             0             0             0             1             0   \n",
            "3             0             0             0             0             0   \n",
            "4             0             0             0             1             0   \n",
            "\n",
            "   #_SIBLINGS_4  #_SIBLINGS_5  KIDS_1  KIDS_2  KIDS_3  MOTHER_JOB_1  \\\n",
            "0             0             0       1       0       0             0   \n",
            "1             0             0       1       0       0             0   \n",
            "2             0             0       1       0       0             0   \n",
            "3             0             1       1       0       0             0   \n",
            "4             0             0       1       0       0             0   \n",
            "\n",
            "   MOTHER_JOB_2  MOTHER_JOB_3  MOTHER_JOB_4  MOTHER_JOB_5  FATHER_JOB_1  \\\n",
            "0             1             0             0             0             0   \n",
            "1             1             0             0             0             1   \n",
            "2             1             0             0             0             1   \n",
            "3             1             0             0             0             1   \n",
            "4             1             0             0             0             0   \n",
            "\n",
            "   FATHER_JOB_2  FATHER_JOB_3  FATHER_JOB_4  FATHER_JOB_5  STUDY_HRS_1  \\\n",
            "0             0             0             0             1            0   \n",
            "1             0             0             0             0            0   \n",
            "2             0             0             0             0            0   \n",
            "3             0             0             0             0            0   \n",
            "4             0             0             1             0            0   \n",
            "\n",
            "   STUDY_HRS_2  STUDY_HRS_3  STUDY_HRS_4  STUDY_HRS_5  READ_FREQ_1  \\\n",
            "0            0            1            0            0            0   \n",
            "1            1            0            0            0            0   \n",
            "2            1            0            0            0            1   \n",
            "3            0            1            0            0            1   \n",
            "4            1            0            0            0            1   \n",
            "\n",
            "   READ_FREQ_2  READ_FREQ_3  READ_FREQ_SCI_1  READ_FREQ_SCI_2  \\\n",
            "0            1            0                0                1   \n",
            "1            1            0                0                1   \n",
            "2            0            0                0                1   \n",
            "3            0            0                0                1   \n",
            "4            0            0                1                0   \n",
            "\n",
            "   READ_FREQ_SCI_3  ATTEND_DEPT_1  ATTEND_DEPT_2  ATTEND_1  ATTEND_2  \\\n",
            "0                0              1              0         1         0   \n",
            "1                0              1              0         1         0   \n",
            "2                0              1              0         1         0   \n",
            "3                0              1              0         1         0   \n",
            "4                0              1              0         1         0   \n",
            "\n",
            "   PREP_STUDY_1  PREP_STUDY_2  PREP_STUDY_3  PREP_EXAM_1  PREP_EXAM_2  \\\n",
            "0             1             0             0            1            0   \n",
            "1             1             0             0            1            0   \n",
            "2             1             0             0            1            0   \n",
            "3             1             0             0            0            1   \n",
            "4             0             1             0            1            0   \n",
            "\n",
            "   PREP_EXAM_3  NOTES_1  NOTES_2  NOTES_3  LISTENS_1  LISTENS_2  LISTENS_3  \\\n",
            "0            0        0        0        1          0          1          0   \n",
            "1            0        0        0        1          0          1          0   \n",
            "2            0        0        1        0          0          1          0   \n",
            "3            0        0        0        1          0          1          0   \n",
            "4            0        0        1        0          0          1          0   \n",
            "\n",
            "   LIKES_DISCUSS_1  LIKES_DISCUSS_2  LIKES_DISCUSS_3  CUML_GPA_1  CUML_GPA_2  \\\n",
            "0                1                0                0           1           0   \n",
            "1                0                0                1           0           1   \n",
            "2                1                0                0           0           1   \n",
            "3                0                1                0           0           0   \n",
            "4                0                1                0           0           1   \n",
            "\n",
            "   CUML_GPA_3  CUML_GPA_4  CUML_GPA_5  EXP_GPA_1  EXP_GPA_2  EXP_GPA_3  \\\n",
            "0           0           0           0          1          0          0   \n",
            "1           0           0           0          0          0          1   \n",
            "2           0           0           0          0          1          0   \n",
            "3           1           0           0          0          1          0   \n",
            "4           0           0           0          0          1          0   \n",
            "\n",
            "   EXP_GPA_4  \n",
            "0          0  \n",
            "1          0  \n",
            "2          0  \n",
            "3          0  \n",
            "4          0  \n"
          ]
        }
      ]
    },
    {
      "cell_type": "code",
      "source": [
        "X = X.values # convert from Pandas dataframe to numpy array\n",
        "y = y.values"
      ],
      "metadata": {
        "id": "IqdNRSpV1XS5"
      },
      "execution_count": 829,
      "outputs": []
    },
    {
      "cell_type": "code",
      "source": [
        "print(y[:])\n",
        "#changing it back to int\n",
        "y = y.astype(np.int8)\n",
        "print(y[:])"
      ],
      "metadata": {
        "colab": {
          "base_uri": "https://localhost:8080/"
        },
        "id": "wWE-VQU71i7s",
        "outputId": "160edfc9-b9d1-432b-eb32-3df130dd9347"
      },
      "execution_count": 830,
      "outputs": [
        {
          "output_type": "stream",
          "name": "stdout",
          "text": [
            "['1' '1' '1' '1' '1' '2' '5' '2' '5' '0' '2' '0' '0' '1' '2' '2' '1' '2'\n",
            " '2' '3' '1' '1' '3' '1' '2' '3' '1' '1' '3' '5' '5' '3' '1' '2' '2' '1'\n",
            " '2' '1' '2' '1' '1' '1' '1' '4' '1' '3' '5' '3' '1' '2' '1' '4' '1' '5'\n",
            " '3' '3' '5' '4' '3' '5' '2' '5' '3' '5' '3' '2' '5' '1' '5' '5' '7' '6'\n",
            " '6' '6' '7' '7' '4' '7' '4' '3' '4' '3' '7' '7' '7' '4' '5' '6' '6' '6'\n",
            " '6' '6' '7' '4' '6' '5' '7' '6' '7' '7' '6' '7' '7' '7' '3' '7' '7' '6'\n",
            " '6' '7' '2' '2' '2' '1' '2' '1' '1' '1' '1' '2' '1' '0' '2' '1' '3' '2'\n",
            " '3' '1' '0' '3' '1' '4' '3' '3' '1' '2' '0' '2' '0' '0' '5' '5' '1' '4'\n",
            " '3']\n",
            "[1 1 1 1 1 2 5 2 5 0 2 0 0 1 2 2 1 2 2 3 1 1 3 1 2 3 1 1 3 5 5 3 1 2 2 1 2\n",
            " 1 2 1 1 1 1 4 1 3 5 3 1 2 1 4 1 5 3 3 5 4 3 5 2 5 3 5 3 2 5 1 5 5 7 6 6 6\n",
            " 7 7 4 7 4 3 4 3 7 7 7 4 5 6 6 6 6 6 7 4 6 5 7 6 7 7 6 7 7 7 3 7 7 6 6 7 2\n",
            " 2 2 1 2 1 1 1 1 2 1 0 2 1 3 2 3 1 0 3 1 4 3 3 1 2 0 2 0 0 5 5 1 4 3]\n"
          ]
        }
      ]
    },
    {
      "cell_type": "code",
      "source": [
        "#scaler = StandardScaler()\n",
        "#X = scaler.fit_transform(X) # calculate mean and standard deviation and convert dataframe to numpy array\n",
        "#print(X[0:6,:])"
      ],
      "metadata": {
        "id": "mhpELPGS1j5v"
      },
      "execution_count": 831,
      "outputs": []
    },
    {
      "cell_type": "code",
      "source": [
        "X_train, X_test, y_train, y_test = train_test_split(X,y,test_size = 0.2, random_state = 222 )\n",
        "# random_state set to some value will provide same output"
      ],
      "metadata": {
        "id": "6iGY8lrp1GcD"
      },
      "execution_count": 832,
      "outputs": []
    },
    {
      "cell_type": "code",
      "source": [
        "model = Sequential()\n",
        "model.add(Dense(101,activation='relu'))\n",
        "model.add(Dense(101,activation='relu'))\n",
        "model.add(Dense(1, activation='relu'))\n",
        "######model.add(Dense(7)) # would have been the case if also created dummies for y. \n",
        "\n",
        "adam = Adam(learning_rate=0.001) \n",
        "model.compile(loss='mse', optimizer=adam)  \n",
        "# use loss = 'binary_crossentropy' for two-class classification.\n",
        "#use loss = 'categorical_crossentropy' for multi-class classification.\n",
        "#use loss = mse (Mean Square Error) for regression (e.g. the Age,Height exercise). \n",
        "#use metrics = ['accuracy']. It shows successful predictions / total predictions"
      ],
      "metadata": {
        "id": "rdwPCHwO3PnG"
      },
      "execution_count": 833,
      "outputs": []
    },
    {
      "cell_type": "code",
      "source": [
        "model.fit(X_train, y_train, epochs=50, batch_size=4, verbose=1)  # does the actual WORK !. verbose=1 will show output. 0 = no output."
      ],
      "metadata": {
        "id": "kga9lujk3v2D"
      },
      "execution_count": null,
      "outputs": []
    },
    {
      "cell_type": "code",
      "source": [
        "#show loss vs epochs\n",
        "loss = model.history.history['loss']\n",
        "sns.lineplot(x=range(len(loss)),y=loss)"
      ],
      "metadata": {
        "id": "QH8dZVjC38a3",
        "colab": {
          "base_uri": "https://localhost:8080/",
          "height": 282
        },
        "outputId": "094903f0-e316-4ee3-cbf1-e8eb618aa057"
      },
      "execution_count": 835,
      "outputs": [
        {
          "output_type": "execute_result",
          "data": {
            "text/plain": [
              "<matplotlib.axes._subplots.AxesSubplot at 0x7f243b33ce50>"
            ]
          },
          "metadata": {},
          "execution_count": 835
        },
        {
          "output_type": "display_data",
          "data": {
            "image/png": "[encoded data removed]",
            "text/plain": [
              "<Figure size 432x288 with 1 Axes>"
            ]
          },
          "metadata": {
            "needs_background": "light"
          }
        }
      ]
    },
    {
      "cell_type": "code",
      "source": [
        "#Get model prediction accuracy on test data\n",
        "model.evaluate(X_test,y_test,verbose=1) "
      ],
      "metadata": {
        "id": "22HnoRr84Kul",
        "colab": {
          "base_uri": "https://localhost:8080/"
        },
        "outputId": "f87b9ac3-fa14-4276-d3a9-3619d57bc76b"
      },
      "execution_count": 836,
      "outputs": [
        {
          "output_type": "stream",
          "name": "stdout",
          "text": [
            "1/1 [==============================] - 0s 104ms/step - loss: 3.5934\n"
          ]
        },
        {
          "output_type": "execute_result",
          "data": {
            "text/plain": [
              "3.593369483947754"
            ]
          },
          "metadata": {},
          "execution_count": 836
        }
      ]
    },
    {
      "cell_type": "code",
      "source": [
        "y_pred = model.predict(X_test)\n",
        "y_pred = y_pred.flatten()\n",
        "print(y_pred.shape)\n",
        "print(y_test.shape)\n",
        "print(type(y_pred))\n",
        "print(type(y_test))"
      ],
      "metadata": {
        "id": "O9Vqu2Qc5hB7",
        "colab": {
          "base_uri": "https://localhost:8080/"
        },
        "outputId": "17815765-e3ae-486c-f19c-3b890144f92c"
      },
      "execution_count": 837,
      "outputs": [
        {
          "output_type": "stream",
          "name": "stdout",
          "text": [
            "(29,)\n",
            "(29,)\n",
            "<class 'numpy.ndarray'>\n",
            "<class 'numpy.ndarray'>\n"
          ]
        }
      ]
    },
    {
      "cell_type": "code",
      "source": [
        "compareArr = np.vstack((y_pred, y_test)).T\n",
        "print(compareArr)\n",
        "#tmp = np.zeros(shape=(29,8))\n",
        "#def convertYpred(arr):\n",
        "#  c = 0\n",
        "#  for item in arr:\n",
        "#    index = argmax(item)\n",
        "#    tmp[c,index] = 1\n",
        "#    c += 1\n",
        "#  return tmp\n",
        "#y_pred_conv = convertYpred(y_pred).astype(int)\n",
        "#print(y_pred_conv.shape)\n",
        "#print(y_pred_conv[:,:])\n",
        "\n",
        "#tmp = np.zeros(shape=(145,8))"
      ],
      "metadata": {
        "colab": {
          "base_uri": "https://localhost:8080/"
        },
        "id": "o4W-WsD-4xiu",
        "outputId": "07d39aaf-33da-455d-9fab-833aff645e63"
      },
      "execution_count": 838,
      "outputs": [
        {
          "output_type": "stream",
          "name": "stdout",
          "text": [
            "[[1.9243025 1.       ]\n",
            " [4.252802  7.       ]\n",
            " [3.633413  5.       ]\n",
            " [7.824126  7.       ]\n",
            " [3.6473584 3.       ]\n",
            " [4.468663  5.       ]\n",
            " [2.698596  1.       ]\n",
            " [4.667538  1.       ]\n",
            " [4.959505  7.       ]\n",
            " [2.5846615 5.       ]\n",
            " [1.9555413 2.       ]\n",
            " [1.2931898 2.       ]\n",
            " [1.9177778 1.       ]\n",
            " [4.0238376 0.       ]\n",
            " [5.1852756 5.       ]\n",
            " [2.6119337 1.       ]\n",
            " [3.112252  6.       ]\n",
            " [1.6639551 1.       ]\n",
            " [3.0013673 1.       ]\n",
            " [2.6484027 1.       ]\n",
            " [3.4040563 1.       ]\n",
            " [1.4165943 0.       ]\n",
            " [4.2141232 2.       ]\n",
            " [2.7410495 3.       ]\n",
            " [1.5297623 2.       ]\n",
            " [4.1864758 3.       ]\n",
            " [5.1041274 6.       ]\n",
            " [2.4617825 6.       ]\n",
            " [4.312356  6.       ]]\n"
          ]
        }
      ]
    },
    {
      "cell_type": "code",
      "source": [
        "print(columnNames)"
      ],
      "metadata": {
        "colab": {
          "base_uri": "https://localhost:8080/"
        },
        "id": "nJgHiAHG8UfT",
        "outputId": "2e52ca21-c035-401f-e8f0-0d74b75f718d"
      },
      "execution_count": 839,
      "outputs": [
        {
          "output_type": "stream",
          "name": "stdout",
          "text": [
            "['AGE_1', 'AGE_2', 'AGE_3', 'GENDER_1', 'GENDER_2', 'HS_TYPE_1', 'HS_TYPE_2', 'HS_TYPE_3', 'SCHOLARSHIP_1', 'SCHOLARSHIP_2', 'SCHOLARSHIP_3', 'SCHOLARSHIP_4', 'SCHOLARSHIP_5', 'WORK_1', 'WORK_2', 'ACTIVITY_1', 'ACTIVITY_2', 'PARTNER_1', 'PARTNER_2', 'SALARY_1', 'SALARY_2', 'SALARY_3', 'SALARY_4', 'SALARY_5', 'TRANSPORT_1', 'TRANSPORT_2', 'TRANSPORT_3', 'TRANSPORT_4', 'LIVING_1', 'LIVING_2', 'LIVING_3', 'LIVING_4', 'MOTHER_EDU_1', 'MOTHER_EDU_2', 'MOTHER_EDU_3', 'MOTHER_EDU_4', 'MOTHER_EDU_5', 'MOTHER_EDU_6', 'FATHER_EDU_1', 'FATHER_EDU_2', 'FATHER_EDU_3', 'FATHER_EDU_4', 'FATHER_EDU_5', 'FATHER_EDU_6', '#_SIBLINGS_1', '#_SIBLINGS_2', '#_SIBLINGS_3', '#_SIBLINGS_4', '#_SIBLINGS_5', 'KIDS_1', 'KIDS_2', 'KIDS_3', 'MOTHER_JOB_1', 'MOTHER_JOB_2', 'MOTHER_JOB_3', 'MOTHER_JOB_4', 'MOTHER_JOB_5', 'FATHER_JOB_1', 'FATHER_JOB_2', 'FATHER_JOB_3', 'FATHER_JOB_4', 'FATHER_JOB_5', 'STUDY_HRS_1', 'STUDY_HRS_2', 'STUDY_HRS_3', 'STUDY_HRS_4', 'STUDY_HRS_5', 'READ_FREQ_1', 'READ_FREQ_2', 'READ_FREQ_3', 'READ_FREQ_SCI_1', 'READ_FREQ_SCI_2', 'READ_FREQ_SCI_3', 'ATTEND_DEPT_1', 'ATTEND_DEPT_2', 'ATTEND_1', 'ATTEND_2', 'PREP_STUDY_1', 'PREP_STUDY_2', 'PREP_STUDY_3', 'PREP_EXAM_1', 'PREP_EXAM_2', 'PREP_EXAM_3', 'NOTES_1', 'NOTES_2', 'NOTES_3', 'LISTENS_1', 'LISTENS_2', 'LISTENS_3', 'LIKES_DISCUSS_1', 'LIKES_DISCUSS_2', 'LIKES_DISCUSS_3', 'CUML_GPA_1', 'CUML_GPA_2', 'CUML_GPA_3', 'CUML_GPA_4', 'CUML_GPA_5', 'EXP_GPA_1', 'EXP_GPA_2', 'EXP_GPA_3', 'EXP_GPA_4']\n"
          ]
        }
      ]
    },
    {
      "cell_type": "code",
      "source": [
        "#new_value = [[27, 1, 1, 1, 1, 1, 1, 1, 3, 4, 4, 4, 3, 1, 2, 4, 3, 3, 3, 2, 3, 1, 1, 2, 2, 2, 2, 3, 5, 5]] # enter new data in 2D array. Only numbers + dummy variables. \n",
        "#new_value = scaler.transform(new_value) # Don't forget to scale!\n",
        "#print(new_value)\n",
        "#model.predict(new_value)"
      ],
      "metadata": {
        "id": "c_GSMZ4dMhN6"
      },
      "execution_count": 840,
      "outputs": []
    }
  ]
}