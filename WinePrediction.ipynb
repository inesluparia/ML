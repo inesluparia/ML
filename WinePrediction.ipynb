{
  "nbformat": 4,
  "nbformat_minor": 0,
  "metadata": {
    "colab": {
      "name": "WinePrediction.ipynb",
      "provenance": [],
      "collapsed_sections": [],
      "authorship_tag": "ABX9TyMchq1lI3UYEhnLnOqnZd8Z",
      "include_colab_link": true
    },
    "kernelspec": {
      "name": "python3",
      "display_name": "Python 3"
    },
    "language_info": {
      "name": "python"
    }
  },
  "cells": [
    {
      "cell_type": "markdown",
      "metadata": {
        "id": "view-in-github",
        "colab_type": "text"
      },
      "source": [
        "<a href=\"https://colab.research.google.com/github/inesluparia/ML/blob/master/WinePrediction.ipynb\" target=\"_parent\"><img src=\"https://colab.research.google.com/assets/colab-badge.svg\" alt=\"Open In Colab\"/></a>"
      ]
    },
    {
      "cell_type": "code",
      "execution_count": null,
      "metadata": {
        "id": "-Ig7e-GYAJ_e"
      },
      "outputs": [],
      "source": [
        "import numpy as np\n",
        "import pandas as pd\n",
        "import seaborn as sns\n",
        "from sklearn.model_selection import train_test_split\n",
        "from sklearn.preprocessing import StandardScaler\n",
        "from tensorflow.keras.models import Sequential, load_model\n",
        "from tensorflow.keras.layers import Dense\n",
        "from tensorflow.keras.optimizers import Adam\n",
        "from sklearn.metrics import accuracy_score\n",
        "\n",
        "import tensorflow as tf\n",
        "from numpy import argmax\n"
      ]
    },
    {
      "cell_type": "code",
      "source": [
        "!git clone https://github.com/inesluparia/ML.git"
      ],
      "metadata": {
        "colab": {
          "base_uri": "https://localhost:8080/"
        },
        "id": "7nmWrHxAAMGZ",
        "outputId": "8e09af48-4f90-42ef-d9f7-eafe8b3991e4"
      },
      "execution_count": null,
      "outputs": [
        {
          "output_type": "stream",
          "name": "stdout",
          "text": [
            "fatal: destination path 'ML' already exists and is not an empty directory.\n"
          ]
        }
      ]
    },
    {
      "cell_type": "code",
      "source": [
        "dataFrame = pd.read_csv('ML/winequalityN.csv')\n",
        "#source https://www.kaggle.com/yasserh/wine-quality-dataset"
      ],
      "metadata": {
        "id": "ylsLy1QZFii9"
      },
      "execution_count": null,
      "outputs": []
    },
    {
      "cell_type": "code",
      "source": [
        "dataFrame.head()"
      ],
      "metadata": {
        "colab": {
          "base_uri": "https://localhost:8080/",
          "height": 206
        },
        "id": "HplH56DwFqSO",
        "outputId": "eeea6209-b301-4e4b-a639-fa1262c81f34"
      },
      "execution_count": null,
      "outputs": [
        {
          "output_type": "execute_result",
          "data": {
            "text/html": [
              "\n",
              "  <div id=\"df-18220286-439e-4089-8e3b-fecab9d47653\">\n",
              "    <div class=\"colab-df-container\">\n",
              "      <div>\n",
              "<style scoped>\n",
              "    .dataframe tbody tr th:only-of-type {\n",
              "        vertical-align: middle;\n",
              "    }\n",
              "\n",
              "    .dataframe tbody tr th {\n",
              "        vertical-align: top;\n",
              "    }\n",
              "\n",
              "    .dataframe thead th {\n",
              "        text-align: right;\n",
              "    }\n",
              "</style>\n",
              "<table border=\"1\" class=\"dataframe\">\n",
              "  <thead>\n",
              "    <tr style=\"text-align: right;\">\n",
              "      <th></th>\n",
              "      <th>type</th>\n",
              "      <th>fixed acidity</th>\n",
              "      <th>volatile acidity</th>\n",
              "      <th>citric acid</th>\n",
              "      <th>residual sugar</th>\n",
              "      <th>chlorides</th>\n",
              "      <th>free sulfur dioxide</th>\n",
              "      <th>total sulfur dioxide</th>\n",
              "      <th>density</th>\n",
              "      <th>pH</th>\n",
              "      <th>sulphates</th>\n",
              "      <th>alcohol</th>\n",
              "      <th>quality</th>\n",
              "    </tr>\n",
              "  </thead>\n",
              "  <tbody>\n",
              "    <tr>\n",
              "      <th>0</th>\n",
              "      <td>white</td>\n",
              "      <td>7.0</td>\n",
              "      <td>0.27</td>\n",
              "      <td>0.36</td>\n",
              "      <td>20.7</td>\n",
              "      <td>0.045</td>\n",
              "      <td>45.0</td>\n",
              "      <td>170.0</td>\n",
              "      <td>1.0010</td>\n",
              "      <td>3.00</td>\n",
              "      <td>0.45</td>\n",
              "      <td>8.8</td>\n",
              "      <td>6</td>\n",
              "    </tr>\n",
              "    <tr>\n",
              "      <th>1</th>\n",
              "      <td>white</td>\n",
              "      <td>6.3</td>\n",
              "      <td>0.30</td>\n",
              "      <td>0.34</td>\n",
              "      <td>1.6</td>\n",
              "      <td>0.049</td>\n",
              "      <td>14.0</td>\n",
              "      <td>132.0</td>\n",
              "      <td>0.9940</td>\n",
              "      <td>3.30</td>\n",
              "      <td>0.49</td>\n",
              "      <td>9.5</td>\n",
              "      <td>6</td>\n",
              "    </tr>\n",
              "    <tr>\n",
              "      <th>2</th>\n",
              "      <td>white</td>\n",
              "      <td>8.1</td>\n",
              "      <td>0.28</td>\n",
              "      <td>0.40</td>\n",
              "      <td>6.9</td>\n",
              "      <td>0.050</td>\n",
              "      <td>30.0</td>\n",
              "      <td>97.0</td>\n",
              "      <td>0.9951</td>\n",
              "      <td>3.26</td>\n",
              "      <td>0.44</td>\n",
              "      <td>10.1</td>\n",
              "      <td>6</td>\n",
              "    </tr>\n",
              "    <tr>\n",
              "      <th>3</th>\n",
              "      <td>white</td>\n",
              "      <td>7.2</td>\n",
              "      <td>0.23</td>\n",
              "      <td>0.32</td>\n",
              "      <td>8.5</td>\n",
              "      <td>0.058</td>\n",
              "      <td>47.0</td>\n",
              "      <td>186.0</td>\n",
              "      <td>0.9956</td>\n",
              "      <td>3.19</td>\n",
              "      <td>0.40</td>\n",
              "      <td>9.9</td>\n",
              "      <td>6</td>\n",
              "    </tr>\n",
              "    <tr>\n",
              "      <th>4</th>\n",
              "      <td>white</td>\n",
              "      <td>7.2</td>\n",
              "      <td>0.23</td>\n",
              "      <td>0.32</td>\n",
              "      <td>8.5</td>\n",
              "      <td>0.058</td>\n",
              "      <td>47.0</td>\n",
              "      <td>186.0</td>\n",
              "      <td>0.9956</td>\n",
              "      <td>3.19</td>\n",
              "      <td>0.40</td>\n",
              "      <td>9.9</td>\n",
              "      <td>6</td>\n",
              "    </tr>\n",
              "  </tbody>\n",
              "</table>\n",
              "</div>\n",
              "      <button class=\"colab-df-convert\" onclick=\"convertToInteractive('df-18220286-439e-4089-8e3b-fecab9d47653')\"\n",
              "              title=\"Convert this dataframe to an interactive table.\"\n",
              "              style=\"display:none;\">\n",
              "        \n",
              "  <svg xmlns=\"http://www.w3.org/2000/svg\" height=\"24px\"viewBox=\"0 0 24 24\"\n",
              "       width=\"24px\">\n",
              "    <path d=\"M0 0h24v24H0V0z\" fill=\"none\"/>\n",
              "    <path d=\"M18.56 5.44l.94 2.06.94-2.06 2.06-.94-2.06-.94-.94-2.06-.94 2.06-2.06.94zm-11 1L8.5 8.5l.94-2.06 2.06-.94-2.06-.94L8.5 2.5l-.94 2.06-2.06.94zm10 10l.94 2.06.94-2.06 2.06-.94-2.06-.94-.94-2.06-.94 2.06-2.06.94z\"/><path d=\"M17.41 7.96l-1.37-1.37c-.4-.4-.92-.59-1.43-.59-.52 0-1.04.2-1.43.59L10.3 9.45l-7.72 7.72c-.78.78-.78 2.05 0 2.83L4 21.41c.39.39.9.59 1.41.59.51 0 1.02-.2 1.41-.59l7.78-7.78 2.81-2.81c.8-.78.8-2.07 0-2.86zM5.41 20L4 18.59l7.72-7.72 1.47 1.35L5.41 20z\"/>\n",
              "  </svg>\n",
              "      </button>\n",
              "      \n",
              "  <style>\n",
              "    .colab-df-container {\n",
              "      display:flex;\n",
              "      flex-wrap:wrap;\n",
              "      gap: 12px;\n",
              "    }\n",
              "\n",
              "    .colab-df-convert {\n",
              "      background-color: #E8F0FE;\n",
              "      border: none;\n",
              "      border-radius: 50%;\n",
              "      cursor: pointer;\n",
              "      display: none;\n",
              "      fill: #1967D2;\n",
              "      height: 32px;\n",
              "      padding: 0 0 0 0;\n",
              "      width: 32px;\n",
              "    }\n",
              "\n",
              "    .colab-df-convert:hover {\n",
              "      background-color: #E2EBFA;\n",
              "      box-shadow: 0px 1px 2px rgba(60, 64, 67, 0.3), 0px 1px 3px 1px rgba(60, 64, 67, 0.15);\n",
              "      fill: #174EA6;\n",
              "    }\n",
              "\n",
              "    [theme=dark] .colab-df-convert {\n",
              "      background-color: #3B4455;\n",
              "      fill: #D2E3FC;\n",
              "    }\n",
              "\n",
              "    [theme=dark] .colab-df-convert:hover {\n",
              "      background-color: #434B5C;\n",
              "      box-shadow: 0px 1px 3px 1px rgba(0, 0, 0, 0.15);\n",
              "      filter: drop-shadow(0px 1px 2px rgba(0, 0, 0, 0.3));\n",
              "      fill: #FFFFFF;\n",
              "    }\n",
              "  </style>\n",
              "\n",
              "      <script>\n",
              "        const buttonEl =\n",
              "          document.querySelector('#df-18220286-439e-4089-8e3b-fecab9d47653 button.colab-df-convert');\n",
              "        buttonEl.style.display =\n",
              "          google.colab.kernel.accessAllowed ? 'block' : 'none';\n",
              "\n",
              "        async function convertToInteractive(key) {\n",
              "          const element = document.querySelector('#df-18220286-439e-4089-8e3b-fecab9d47653');\n",
              "          const dataTable =\n",
              "            await google.colab.kernel.invokeFunction('convertToInteractive',\n",
              "                                                     [key], {});\n",
              "          if (!dataTable) return;\n",
              "\n",
              "          const docLinkHtml = 'Like what you see? Visit the ' +\n",
              "            '<a target=\"_blank\" href=https://colab.research.google.com/notebooks/data_table.ipynb>data table notebook</a>'\n",
              "            + ' to learn more about interactive tables.';\n",
              "          element.innerHTML = '';\n",
              "          dataTable['output_type'] = 'display_data';\n",
              "          await google.colab.output.renderOutput(dataTable, element);\n",
              "          const docLink = document.createElement('div');\n",
              "          docLink.innerHTML = docLinkHtml;\n",
              "          element.appendChild(docLink);\n",
              "        }\n",
              "      </script>\n",
              "    </div>\n",
              "  </div>\n",
              "  "
            ],
            "text/plain": [
              "    type  fixed acidity  volatile acidity  citric acid  residual sugar  \\\n",
              "0  white            7.0              0.27         0.36            20.7   \n",
              "1  white            6.3              0.30         0.34             1.6   \n",
              "2  white            8.1              0.28         0.40             6.9   \n",
              "3  white            7.2              0.23         0.32             8.5   \n",
              "4  white            7.2              0.23         0.32             8.5   \n",
              "\n",
              "   chlorides  free sulfur dioxide  total sulfur dioxide  density    pH  \\\n",
              "0      0.045                 45.0                 170.0   1.0010  3.00   \n",
              "1      0.049                 14.0                 132.0   0.9940  3.30   \n",
              "2      0.050                 30.0                  97.0   0.9951  3.26   \n",
              "3      0.058                 47.0                 186.0   0.9956  3.19   \n",
              "4      0.058                 47.0                 186.0   0.9956  3.19   \n",
              "\n",
              "   sulphates  alcohol  quality  \n",
              "0       0.45      8.8        6  \n",
              "1       0.49      9.5        6  \n",
              "2       0.44     10.1        6  \n",
              "3       0.40      9.9        6  \n",
              "4       0.40      9.9        6  "
            ]
          },
          "metadata": {},
          "execution_count": 122
        }
      ]
    },
    {
      "cell_type": "code",
      "source": [
        "dataFrame.isnull().sum()\n",
        "dataFrame.dropna(inplace=True)"
      ],
      "metadata": {
        "id": "GcJ32hBHKWhE"
      },
      "execution_count": null,
      "outputs": []
    },
    {
      "cell_type": "code",
      "source": [
        "pd.set_option('display.max_columns', None) # print all columns\n",
        "X = dataFrame.iloc[:, 0:-1] # select relevant rows and columns to X\n",
        "y = dataFrame.iloc[:,-1] # select column(s) for y (here only the last column)"
      ],
      "metadata": {
        "id": "pjkH8dUMGXDh"
      },
      "execution_count": null,
      "outputs": []
    },
    {
      "cell_type": "code",
      "source": [
        "#print(X.iloc[0:5,:])\n",
        "#print(y.iloc[0:1])"
      ],
      "metadata": {
        "id": "smIg0odVK9p2"
      },
      "execution_count": null,
      "outputs": []
    },
    {
      "cell_type": "code",
      "source": [
        "X = pd.get_dummies(X)\n",
        "columnNames = list(X.columns)"
      ],
      "metadata": {
        "id": "Zqeb6clfK39L"
      },
      "execution_count": null,
      "outputs": []
    },
    {
      "cell_type": "code",
      "source": [
        "print(X.iloc[0:5,:])\n",
        "print(y.iloc[0:1])"
      ],
      "metadata": {
        "colab": {
          "base_uri": "https://localhost:8080/"
        },
        "id": "LXVcRl6NLL_z",
        "outputId": "dcbfa682-00f8-4f9d-d9ca-ba6023804b17"
      },
      "execution_count": null,
      "outputs": [
        {
          "output_type": "stream",
          "name": "stdout",
          "text": [
            "   fixed acidity  volatile acidity  citric acid  residual sugar  chlorides  \\\n",
            "0            7.0              0.27         0.36            20.7      0.045   \n",
            "1            6.3              0.30         0.34             1.6      0.049   \n",
            "2            8.1              0.28         0.40             6.9      0.050   \n",
            "3            7.2              0.23         0.32             8.5      0.058   \n",
            "4            7.2              0.23         0.32             8.5      0.058   \n",
            "\n",
            "   free sulfur dioxide  total sulfur dioxide  density    pH  sulphates  \\\n",
            "0                 45.0                 170.0   1.0010  3.00       0.45   \n",
            "1                 14.0                 132.0   0.9940  3.30       0.49   \n",
            "2                 30.0                  97.0   0.9951  3.26       0.44   \n",
            "3                 47.0                 186.0   0.9956  3.19       0.40   \n",
            "4                 47.0                 186.0   0.9956  3.19       0.40   \n",
            "\n",
            "   alcohol  type_red  type_white  \n",
            "0      8.8         0           1  \n",
            "1      9.5         0           1  \n",
            "2     10.1         0           1  \n",
            "3      9.9         0           1  \n",
            "4      9.9         0           1  \n",
            "0    6\n",
            "Name: quality, dtype: int64\n"
          ]
        }
      ]
    },
    {
      "cell_type": "code",
      "source": [
        "X = X.values\n",
        "y = y.values"
      ],
      "metadata": {
        "id": "91tGLSr9GmJf"
      },
      "execution_count": null,
      "outputs": []
    },
    {
      "cell_type": "code",
      "source": [
        "print(X[0:5,:])"
      ],
      "metadata": {
        "colab": {
          "base_uri": "https://localhost:8080/"
        },
        "id": "grAjgdU2MaMt",
        "outputId": "f2820342-8eb1-4471-d371-6080963dafff"
      },
      "execution_count": null,
      "outputs": [
        {
          "output_type": "stream",
          "name": "stdout",
          "text": [
            "[[7.000e+00 2.700e-01 3.600e-01 2.070e+01 4.500e-02 4.500e+01 1.700e+02\n",
            "  1.001e+00 3.000e+00 4.500e-01 8.800e+00 0.000e+00 1.000e+00]\n",
            " [6.300e+00 3.000e-01 3.400e-01 1.600e+00 4.900e-02 1.400e+01 1.320e+02\n",
            "  9.940e-01 3.300e+00 4.900e-01 9.500e+00 0.000e+00 1.000e+00]\n",
            " [8.100e+00 2.800e-01 4.000e-01 6.900e+00 5.000e-02 3.000e+01 9.700e+01\n",
            "  9.951e-01 3.260e+00 4.400e-01 1.010e+01 0.000e+00 1.000e+00]\n",
            " [7.200e+00 2.300e-01 3.200e-01 8.500e+00 5.800e-02 4.700e+01 1.860e+02\n",
            "  9.956e-01 3.190e+00 4.000e-01 9.900e+00 0.000e+00 1.000e+00]\n",
            " [7.200e+00 2.300e-01 3.200e-01 8.500e+00 5.800e-02 4.700e+01 1.860e+02\n",
            "  9.956e-01 3.190e+00 4.000e-01 9.900e+00 0.000e+00 1.000e+00]]\n"
          ]
        }
      ]
    },
    {
      "cell_type": "code",
      "source": [
        "scaler = StandardScaler()\n",
        "X = scaler.fit_transform(X)\n",
        "#no need to scale y values!"
      ],
      "metadata": {
        "id": "QRIuxy7kH7iy"
      },
      "execution_count": null,
      "outputs": []
    },
    {
      "cell_type": "code",
      "source": [
        "print(X[0:5,:])\n",
        "print(y[0:5])"
      ],
      "metadata": {
        "colab": {
          "base_uri": "https://localhost:8080/"
        },
        "id": "-N1u2laHOUJo",
        "outputId": "bf992f47-c5a9-44f2-acfe-923e6dc43fc4"
      },
      "execution_count": null,
      "outputs": [
        {
          "output_type": "stream",
          "name": "stdout",
          "text": [
            "[[-0.16778609 -0.42270958  0.2839587   3.20742026 -0.31522756  0.81560932\n",
            "   0.96077916  2.09992631 -1.35916011 -0.5449872  -1.41892232 -0.5719307\n",
            "   0.5719307 ]\n",
            " [-0.70715516 -0.2404789   0.14625658 -0.80815119 -0.20118008 -0.93013767\n",
            "   0.28847889 -0.23246533  0.50839916 -0.27635393 -0.83218392 -0.5719307\n",
            "   0.5719307 ]\n",
            " [ 0.67979387 -0.36196602  0.55936296  0.30611733 -0.17266821 -0.02910697\n",
            "  -0.33074505  0.13405336  0.25939126 -0.61214551 -0.32926528 -0.5719307\n",
            "   0.5719307 ]\n",
            " [-0.01368064 -0.66568383  0.00855445  0.64250028  0.05542676  0.92823815\n",
            "   1.24385296  0.30065276 -0.17637257 -0.88077878 -0.49690483 -0.5719307\n",
            "   0.5719307 ]\n",
            " [-0.01368064 -0.66568383  0.00855445  0.64250028  0.05542676  0.92823815\n",
            "   1.24385296  0.30065276 -0.17637257 -0.88077878 -0.49690483 -0.5719307\n",
            "   0.5719307 ]]\n",
            "[6 6 6 6 6]\n"
          ]
        }
      ]
    },
    {
      "cell_type": "code",
      "source": [
        "X_train, X_test, y_train, y_test = train_test_split(X,y,test_size = 0.2, random_state = 2222 )"
      ],
      "metadata": {
        "id": "7dVK1JW_IE01"
      },
      "execution_count": null,
      "outputs": []
    },
    {
      "cell_type": "code",
      "source": [
        "print(X.shape)"
      ],
      "metadata": {
        "colab": {
          "base_uri": "https://localhost:8080/"
        },
        "id": "WIhbHsOCIQGG",
        "outputId": "f9626908-8163-409d-85d6-0e7150add0bc"
      },
      "execution_count": null,
      "outputs": [
        {
          "output_type": "stream",
          "name": "stdout",
          "text": [
            "(6463, 13)\n"
          ]
        }
      ]
    },
    {
      "cell_type": "code",
      "source": [
        "model = Sequential()\n",
        "model.add(Dense(15,activation='relu')) # 4 outputs. It will automatically adapt to number inputs\n",
        "model.add(Dense(15,activation='relu'))\n",
        "model.add(Dense(15,activation='relu'))\n",
        "model.add(Dense(1)) # Final output node for prediction. In this case, only one output neuron\n",
        "\n",
        "adam = Adam(learning_rate=0.001) \n",
        "model.compile(loss='mse', optimizer=adam)\n"
      ],
      "metadata": {
        "id": "Ig8CkI-wIN48"
      },
      "execution_count": null,
      "outputs": []
    },
    {
      "cell_type": "code",
      "source": [
        "model.fit(X_train,y_train,epochs=50, verbose=1)  # does the actual WORK !. verbose=1 will show output. 0 = no output.\n"
      ],
      "metadata": {
        "colab": {
          "base_uri": "https://localhost:8080/"
        },
        "id": "0uw0FscxJrKt",
        "outputId": "d1ce841a-da00-4556-86da-5561d83d4e7c"
      },
      "execution_count": null,
      "outputs": [
        {
          "output_type": "stream",
          "name": "stdout",
          "text": [
            "Epoch 1/50\n",
            "162/162 [==============================] - 0s 2ms/step - loss: 0.4070\n",
            "Epoch 2/50\n",
            "162/162 [==============================] - 0s 2ms/step - loss: 0.4042\n",
            "Epoch 3/50\n",
            "162/162 [==============================] - 0s 2ms/step - loss: 0.4073\n",
            "Epoch 4/50\n",
            "162/162 [==============================] - 0s 2ms/step - loss: 0.4059\n",
            "Epoch 5/50\n",
            "162/162 [==============================] - 0s 2ms/step - loss: 0.4027\n",
            "Epoch 6/50\n",
            "162/162 [==============================] - 0s 2ms/step - loss: 0.4050\n",
            "Epoch 7/50\n",
            "162/162 [==============================] - 1s 4ms/step - loss: 0.4033\n",
            "Epoch 8/50\n",
            "162/162 [==============================] - 1s 4ms/step - loss: 0.4066\n",
            "Epoch 9/50\n",
            "162/162 [==============================] - 1s 3ms/step - loss: 0.4077\n",
            "Epoch 10/50\n",
            "162/162 [==============================] - 1s 3ms/step - loss: 0.4038\n",
            "Epoch 11/50\n",
            "162/162 [==============================] - 1s 4ms/step - loss: 0.4052\n",
            "Epoch 12/50\n",
            "162/162 [==============================] - 1s 3ms/step - loss: 0.4054\n",
            "Epoch 13/50\n",
            "162/162 [==============================] - 0s 2ms/step - loss: 0.4050\n",
            "Epoch 14/50\n",
            "162/162 [==============================] - 0s 2ms/step - loss: 0.4081\n",
            "Epoch 15/50\n",
            "162/162 [==============================] - 0s 2ms/step - loss: 0.4095\n",
            "Epoch 16/50\n",
            "162/162 [==============================] - 0s 2ms/step - loss: 0.4057\n",
            "Epoch 17/50\n",
            "162/162 [==============================] - 0s 2ms/step - loss: 0.4059\n",
            "Epoch 18/50\n",
            "162/162 [==============================] - 0s 2ms/step - loss: 0.4031\n",
            "Epoch 19/50\n",
            "162/162 [==============================] - 0s 2ms/step - loss: 0.4038\n",
            "Epoch 20/50\n",
            "162/162 [==============================] - 0s 2ms/step - loss: 0.4039\n",
            "Epoch 21/50\n",
            "162/162 [==============================] - 0s 2ms/step - loss: 0.4061\n",
            "Epoch 22/50\n",
            "162/162 [==============================] - 0s 2ms/step - loss: 0.4039\n",
            "Epoch 23/50\n",
            "162/162 [==============================] - 0s 2ms/step - loss: 0.4033\n",
            "Epoch 24/50\n",
            "162/162 [==============================] - 0s 2ms/step - loss: 0.4048\n",
            "Epoch 25/50\n",
            "162/162 [==============================] - 0s 2ms/step - loss: 0.4045\n",
            "Epoch 26/50\n",
            "162/162 [==============================] - 0s 2ms/step - loss: 0.4037\n",
            "Epoch 27/50\n",
            "162/162 [==============================] - 0s 2ms/step - loss: 0.4036\n",
            "Epoch 28/50\n",
            "162/162 [==============================] - 0s 2ms/step - loss: 0.4043\n",
            "Epoch 29/50\n",
            "162/162 [==============================] - 0s 2ms/step - loss: 0.4026\n",
            "Epoch 30/50\n",
            "162/162 [==============================] - 0s 2ms/step - loss: 0.4052\n",
            "Epoch 31/50\n",
            "162/162 [==============================] - 0s 2ms/step - loss: 0.4029\n",
            "Epoch 32/50\n",
            "162/162 [==============================] - 0s 2ms/step - loss: 0.4028\n",
            "Epoch 33/50\n",
            "162/162 [==============================] - 0s 2ms/step - loss: 0.3994\n",
            "Epoch 34/50\n",
            "162/162 [==============================] - 0s 2ms/step - loss: 0.4021\n",
            "Epoch 35/50\n",
            "162/162 [==============================] - 0s 2ms/step - loss: 0.4026\n",
            "Epoch 36/50\n",
            "162/162 [==============================] - 0s 2ms/step - loss: 0.4013\n",
            "Epoch 37/50\n",
            "162/162 [==============================] - 0s 2ms/step - loss: 0.4053\n",
            "Epoch 38/50\n",
            "162/162 [==============================] - 0s 2ms/step - loss: 0.4058\n",
            "Epoch 39/50\n",
            "162/162 [==============================] - 0s 2ms/step - loss: 0.4013\n",
            "Epoch 40/50\n",
            "162/162 [==============================] - 0s 2ms/step - loss: 0.4014\n",
            "Epoch 41/50\n",
            "162/162 [==============================] - 0s 2ms/step - loss: 0.3959\n",
            "Epoch 42/50\n",
            "162/162 [==============================] - 0s 2ms/step - loss: 0.4046\n",
            "Epoch 43/50\n",
            "162/162 [==============================] - 0s 2ms/step - loss: 0.4005\n",
            "Epoch 44/50\n",
            "162/162 [==============================] - 0s 2ms/step - loss: 0.4033\n",
            "Epoch 45/50\n",
            "162/162 [==============================] - 0s 2ms/step - loss: 0.4019\n",
            "Epoch 46/50\n",
            "162/162 [==============================] - 0s 2ms/step - loss: 0.4019\n",
            "Epoch 47/50\n",
            "162/162 [==============================] - 0s 2ms/step - loss: 0.4003\n",
            "Epoch 48/50\n",
            "162/162 [==============================] - 0s 2ms/step - loss: 0.4021\n",
            "Epoch 49/50\n",
            "162/162 [==============================] - 0s 2ms/step - loss: 0.4008\n",
            "Epoch 50/50\n",
            "162/162 [==============================] - 0s 2ms/step - loss: 0.3988\n"
          ]
        },
        {
          "output_type": "execute_result",
          "data": {
            "text/plain": [
              "<keras.callbacks.History at 0x7fae8674f550>"
            ]
          },
          "metadata": {},
          "execution_count": 142
        }
      ]
    },
    {
      "cell_type": "code",
      "source": [
        "loss = model.history.history['loss']\n",
        "sns.lineplot(x=range(len(loss)),y=loss)\n",
        "model.evaluate(X_test,y_test,verbose=1)"
      ],
      "metadata": {
        "colab": {
          "base_uri": "https://localhost:8080/",
          "height": 302
        },
        "id": "dlk6uJz0JvFl",
        "outputId": "0127f5db-de83-4cf4-d46e-a8d7afe78514"
      },
      "execution_count": null,
      "outputs": [
        {
          "output_type": "stream",
          "name": "stdout",
          "text": [
            "41/41 [==============================] - 0s 2ms/step - loss: 0.4774\n"
          ]
        },
        {
          "output_type": "execute_result",
          "data": {
            "text/plain": [
              "0.4773864448070526"
            ]
          },
          "metadata": {},
          "execution_count": 143
        },
        {
          "output_type": "display_data",
          "data": {
            "image/png": "[encoded data removed]",
            "text/plain": [
              "<Figure size 432x288 with 1 Axes>"
            ]
          },
          "metadata": {
            "needs_background": "light"
          }
        }
      ]
    }
  ]
}